{
  "nbformat": 4,
  "nbformat_minor": 0,
  "metadata": {
    "kernelspec": {
      "display_name": "Python 3",
      "language": "python",
      "name": "python3"
    },
    "language_info": {
      "codemirror_mode": {
        "name": "ipython",
        "version": 3
      },
      "file_extension": ".py",
      "mimetype": "text/x-python",
      "name": "python",
      "nbconvert_exporter": "python",
      "pygments_lexer": "ipython3",
      "version": "3.8.3"
    },
    "colab": {
      "name": "Experiment1.ipynb",
      "provenance": [],
      "collapsed_sections": []
    },
    "accelerator": "GPU"
  },
  "cells": [
    {
      "cell_type": "markdown",
      "metadata": {
        "id": "Ga6WRVdZHNsr"
      },
      "source": [
        "# **This is the jupyter file run in Google Colab##**"
      ]
    },
    {
      "cell_type": "code",
      "metadata": {
        "id": "ygiwjeo2NoLH",
        "colab": {
          "base_uri": "https://localhost:8080/"
        },
        "outputId": "cd2a0657-8ed0-452d-c195-255213236052"
      },
      "source": [
        "# Very Impoortant!!!!!!\n",
        "# If you are in colab, go to Runtime ----> Change Runtime Type ----> GPU \n",
        "\n",
        "!pip3 install wheel==0.34.1 # by Tim Tian this is conrol the wheel.pep425tags\n",
        "from os import path\n",
        "from wheel.pep425tags import get_abbr_impl, get_impl_ver, get_abi_tag\n",
        "platform = '{}{}-{}'.format(get_abbr_impl(), get_impl_ver(), get_abi_tag())\n",
        "\n",
        "accelerator = 'cu80' if path.exists('/opt/bin/nvidia-smi') else 'cpu'\n",
        "print('Accelerator: ', accelerator)\n"
      ],
      "execution_count": 1,
      "outputs": [
        {
          "output_type": "stream",
          "text": [
            "Requirement already satisfied: wheel==0.34.1 in /usr/local/lib/python3.6/dist-packages (0.34.1)\n",
            "Accelerator:  cu80\n"
          ],
          "name": "stdout"
        }
      ]
    },
    {
      "cell_type": "code",
      "metadata": {
        "id": "Jj0OcJ-wOlUU",
        "colab": {
          "resources": {
            "http://localhost:8080/nbextensions/google.colab/files.js": {
              "data": "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",
              "ok": true,
              "headers": [
                [
                  "content-type",
                  "application/javascript"
                ]
              ],
              "status": 200,
              "status_text": ""
            }
          },
          "base_uri": "https://localhost:8080/",
          "height": 106
        },
        "outputId": "9089c25c-f1cc-4990-dea1-a52b0ac1ba74"
      },
      "source": [
        "## by Tim G Tian during this part, choose the preprocessing.py and visualization.py together and load them\n",
        "from google.colab import files\n",
        "def getLocalFiles():\n",
        "    _files = files.upload()\n",
        "    if len(_files) >0:\n",
        "       for k,v in _files.items():\n",
        "         open(k,'wb').write(v)\n",
        "getLocalFiles()\n",
        "                              "
      ],
      "execution_count": 2,
      "outputs": [
        {
          "output_type": "display_data",
          "data": {
            "text/html": [
              "\n",
              "     <input type=\"file\" id=\"files-8ec0c019-421b-4331-a67f-e6c3403d62f0\" name=\"files[]\" multiple disabled\n",
              "        style=\"border:none\" />\n",
              "     <output id=\"result-8ec0c019-421b-4331-a67f-e6c3403d62f0\">\n",
              "      Upload widget is only available when the cell has been executed in the\n",
              "      current browser session. Please rerun this cell to enable.\n",
              "      </output>\n",
              "      <script src=\"/nbextensions/google.colab/files.js\"></script> "
            ],
            "text/plain": [
              "<IPython.core.display.HTML object>"
            ]
          },
          "metadata": {
            "tags": []
          }
        },
        {
          "output_type": "stream",
          "text": [
            "Saving preprocessing.py to preprocessing (1).py\n",
            "Saving visualization.py to visualization (1).py\n"
          ],
          "name": "stdout"
        }
      ]
    },
    {
      "cell_type": "code",
      "metadata": {
        "id": "fZlE8vbmMxbC"
      },
      "source": [
        "import cv2\n",
        "import matplotlib.pyplot as plt\n",
        "import numpy as np\n",
        "import os\n",
        "import pickle\n",
        "import torch\n",
        "import torchvision\n",
        "import torch.nn.functional as F\n",
        "import torch.optim as optim\n",
        "import umap\n",
        "from torchvision import transforms\n",
        "from mpl_toolkits.mplot3d import Axes3D\n",
        "from sklearn.decomposition import PCA\n",
        "from sklearn.linear_model import SGDClassifier\n",
        "from sklearn.manifold import TSNE\n",
        "from torch import nn\n",
        "from torch.utils.data import Dataset, DataLoader, SubsetRandomSampler, TensorDataset\n",
        "import torch.utils.data as Data\n",
        "from visualization import draw_scores\n",
        "from preprocessing import transfer_unit_float, normalize_channel, get_training_validation_samplers, get_priors, resize, get_transitions, serialize_object, read_pickled\n",
        "# I didnt import load_data, because i need to define one to load data from gdrive"
      ],
      "execution_count": 3,
      "outputs": []
    },
    {
      "cell_type": "code",
      "metadata": {
        "id": "OIOBeG34MxbJ",
        "colab": {
          "base_uri": "https://localhost:8080/"
        },
        "outputId": "dbc41c47-f3cd-442f-a2c4-1db23b15ca23"
      },
      "source": [
        "device = torch.device(\"cuda\" if torch.cuda.is_available() else \"cpu\")\n",
        "print('The training will run on __ {} __'.format(device))\n"
      ],
      "execution_count": 4,
      "outputs": [
        {
          "output_type": "stream",
          "text": [
            "The training will run on __ cuda __\n"
          ],
          "name": "stdout"
        }
      ]
    },
    {
      "cell_type": "code",
      "metadata": {
        "id": "4eLmid12R2gt",
        "colab": {
          "base_uri": "https://localhost:8080/"
        },
        "outputId": "225d0198-faa8-4c22-984d-836f51fe9edf"
      },
      "source": [
        "# By Tim Tian, this is for load data\n",
        "ROOT_DIRECTORY = '.'\n",
        "# Allow saving files to google drive if ran on colab\n",
        "from google.colab import drive\n",
        "drive.mount('/content/gdrive')\n",
        "ROOT_DIRECTORY = '/content/gdrive/My Drive/5328 Test Code'\n",
        "\n",
        "def load_data(dataset_name, path='{}/data/'.format(ROOT_DIRECTORY)):\n",
        "    dataset = np.load(f'{path}{dataset_name}')\n",
        "    X_train, Y_train = dataset['Xtr'], dataset['Str']\n",
        "    X_test, Y_test = dataset['Xts'], dataset['Yts']\n",
        "    \n",
        "    return X_train, Y_train, X_test, Y_test\n"
      ],
      "execution_count": 5,
      "outputs": [
        {
          "output_type": "stream",
          "text": [
            "Drive already mounted at /content/gdrive; to attempt to forcibly remount, call drive.mount(\"/content/gdrive\", force_remount=True).\n"
          ],
          "name": "stdout"
        }
      ]
    },
    {
      "cell_type": "code",
      "metadata": {
        "id": "OE-P6c-rMxbN"
      },
      "source": [
        "########## load data ##########\n",
        "mnist05_X_train, mnist05_Y_train, mnist05_X_test, mnist05_Y_test = load_data('FashionMNIST0.5.npz')\n",
        "mnist06_X_train, mnist06_Y_train, mnist06_X_test, mnist06_Y_test = load_data('FashionMNIST0.6.npz')\n",
        "cifar_X_train, cifar_Y_train, cifar_X_test, cifar_Y_test = load_data('CIFAR.npz')\n",
        "\n",
        "\n",
        "########## Transfer data type and resize ##########\n",
        "mnist05_X_train = resize(transfer_unit_float(mnist05_X_train))\n",
        "mnist05_X_test = resize(transfer_unit_float(mnist05_X_test))\n",
        "mnist06_X_train = resize(transfer_unit_float(mnist06_X_train))\n",
        "mnist06_X_test = resize(transfer_unit_float(mnist06_X_test))\n",
        "cifar_X_train = resize(transfer_unit_float(cifar_X_train), data_name=\"cifar\")\n",
        "cifar_X_test = resize(transfer_unit_float(cifar_X_test), data_name=\"cifar\")\n",
        "\n",
        "\n",
        "########## Preperation for train ##########\n",
        "mnist05_train_set = TensorDataset(torch.from_numpy(mnist05_X_train), torch.from_numpy(mnist05_Y_train))\n",
        "mnist05_test_set = TensorDataset(torch.from_numpy(mnist05_X_test), torch.from_numpy(mnist05_Y_test))\n",
        "\n",
        "mnist06_train_set = TensorDataset(torch.from_numpy(mnist06_X_train), torch.from_numpy(mnist06_Y_train))\n",
        "mnist06_test_set = TensorDataset(torch.from_numpy(mnist06_X_test), torch.from_numpy(mnist06_Y_test))\n",
        "\n",
        "cifar_train_set = TensorDataset(torch.from_numpy(cifar_X_train), torch.from_numpy(cifar_Y_train))\n",
        "cifar_test_set = TensorDataset(torch.from_numpy(cifar_X_test), torch.from_numpy(cifar_Y_test))\n",
        "\n",
        "\n",
        "\n",
        "########## Split into trainning and validation ##########\n",
        "\n",
        "mnist05_train_sampler, mnist05_validation_sampler = get_training_validation_samplers(mnist05_train_set)\n",
        "mnist06_train_sampler, mnist06_validation_sampler = get_training_validation_samplers(mnist06_train_set)\n",
        "cifar_train_sampler, cifar_validation_sampler = get_training_validation_samplers(cifar_train_set)\n",
        "\n",
        "\n",
        "########## Get transitions and priors ##########\n",
        "mnist05_transitions = get_transitions(data_name=\"mnist05\")\n",
        "mnist06_transitions = get_transitions(data_name=\"mnist06\")\n",
        "\n",
        "mnist05_priors = get_priors(mnist05_Y_test)\n",
        "mnist05_noisy_priors = get_priors(mnist05_Y_train)\n",
        "\n",
        "mnist06_priors = get_priors(mnist06_Y_test)\n",
        "mnist06_noisy_priors = get_priors(mnist06_Y_train)\n",
        "\n",
        "cifar_priors = get_priors(cifar_Y_test)\n",
        "cifar_noisy_priors = get_priors(cifar_Y_train)"
      ],
      "execution_count": 6,
      "outputs": []
    },
    {
      "cell_type": "code",
      "metadata": {
        "id": "u7p1jmSAMxbQ"
      },
      "source": [
        "########## Different classifers: CNN, LSTM##########\n",
        "class CNN(nn.Module):\n",
        "    \n",
        "    def __init__(self, number_classes, channel=1):\n",
        "        super(CNN, self).__init__()\n",
        "        self.conv1 = nn.Sequential(\n",
        "            nn.Conv2d(channel, 16, kernel_size=5, stride=1, padding=2),#1.in_channel=input height, 2.out_channel=n_filters=n_feature_map（扫描框个数）, 3.kernal_size(扫描框大小), 4.stride=1（扫描框步长）, 5.padding（图片周围填充几轮）;  28=(32-5+1)\n",
        "            nn.ReLU(),\n",
        "            nn.MaxPool2d(2),          #框边长为2，每2个结果输出1个，28/2 = 14，压缩后image为14*14，高度变成了16\n",
        "        )\n",
        "        self.conv2 = nn.Sequential(\n",
        "            nn.Conv2d(16, 32, kernel_size=5, stride=1, padding=2),\n",
        "            nn.ReLU(),\n",
        "            nn.MaxPool2d(2),          #框边长为2，每2个结果输出1个，14/2 = 7，压缩后image为7*7，高度变成了32  \n",
        "        )\n",
        "        self.out = nn.Linear(32 * 7 * 7, number_classes)\n",
        "    \n",
        "    def forward(self, x):\n",
        "        x = self.conv1(x)\n",
        "        x = self.conv2(x)\n",
        "        x = x.view(x.size(0), -1)\n",
        "        x = self.out(x)\n",
        "        return x\n",
        "\n",
        "\n",
        "\n",
        "class CNN_BN(nn.Module):\n",
        "    \n",
        "    def __init__(self, number_classes, channel=1):\n",
        "        super(CNN_BN, self).__init__()\n",
        "        self.conv1 = nn.Sequential(\n",
        "            nn.Conv2d(channel, 16, kernel_size=5, stride=1, padding=2),#1.in_channel=input height, 2.out_channel=n_filters=n_feature_map（扫描框个数）, 3.kernal_size(扫描框大小), 4.stride=1（扫描框步长）, 5.padding（图片周围填充几轮）;  28=(32-5+1)\n",
        "            nn.BatchNorm2d(16),\n",
        "            nn.ReLU(),\n",
        "            nn.MaxPool2d(2),          #框边长为2，每2个结果输出1个，28/2 = 14，压缩后image为14*14，高度变成了16\n",
        "        )\n",
        "        self.conv2 = nn.Sequential(\n",
        "            nn.Conv2d(16, 32, kernel_size=5, stride=1, padding=2),\n",
        "            nn.BatchNorm2d(32),\n",
        "            nn.ReLU(),\n",
        "            nn.MaxPool2d(2),          #框边长为2，每2个结果输出1个，14/2 = 7，压缩后image为7*7，高度变成了32  \n",
        "        )\n",
        "        self.out = nn.Linear(32 * 7 * 7, number_classes)\n",
        "    \n",
        "    def forward(self, x):\n",
        "        x = self.conv1(x)\n",
        "        x = self.conv2(x)\n",
        "        x = x.view(x.size(0), -1)\n",
        "        x = self.out(x)\n",
        "        return x\n",
        "\n",
        "class CNN2(nn.Module): ## with Normalization on Batch\n",
        "\n",
        "    def __init__(self, number_classes=10, channel=3):\n",
        "        super(CNN2, self).__init__()\n",
        "        \n",
        "        self.features = nn.Sequential(\n",
        "            nn.Conv2d(channel, 32, kernel_size=5, stride=1, padding=0), # 28\n",
        "            nn.BatchNorm2d(32),\n",
        "            nn.ReLU(inplace=True),\n",
        "            nn.MaxPool2d(kernel_size=2), # 14\n",
        "            nn.Conv2d(32, 64, kernel_size=3, stride=1, padding=1), # 14\n",
        "            nn.BatchNorm2d(64),\n",
        "            nn.ReLU(inplace=True),\n",
        "            nn.MaxPool2d(kernel_size=2), # 7\n",
        "            nn.Conv2d(64, 128, kernel_size=3, stride=1, padding=0), # 5\n",
        "            nn.BatchNorm2d(128),\n",
        "            nn.ReLU(inplace=True)\n",
        "        )\n",
        "        \n",
        "        self.classifier = nn.Sequential(\n",
        "            nn.Linear(5*5*128, 1024),\n",
        "            nn.ReLU(inplace=True),\n",
        "            nn.Dropout(),\n",
        "            nn.Linear(1024, 1024),\n",
        "            nn.ReLU(inplace=True),\n",
        "            nn.Dropout(),\n",
        "            nn.Linear(1024, number_classes),\n",
        "        ) # No softmax because CrossEntropy loss does it.\n",
        "\n",
        "    def forward(self, x):\n",
        "        x = self.features(x)\n",
        "        x = x.view(x.size(0), 128 * 5 * 5)\n",
        "        x = self.classifier(x)\n",
        "        return x\n",
        "\n",
        "class CNN2_BN(nn.Module): ## with no Normalization on Batch\n",
        "\n",
        "    def __init__(self, number_classes=10):\n",
        "        super(CNN2_BN, self).__init__()\n",
        "        \n",
        "        self.features = nn.Sequential(\n",
        "            nn.Conv2d(3, 32, kernel_size=5, stride=1, padding=0), # 28\n",
        "            nn.ReLU(inplace=True),\n",
        "            nn.MaxPool2d(kernel_size=2), # 14\n",
        "            nn.Conv2d(32, 64, kernel_size=3, stride=1, padding=1), # 14\n",
        "            nn.ReLU(inplace=True),\n",
        "            nn.MaxPool2d(kernel_size=2), # 7\n",
        "            nn.Conv2d(64, 128, kernel_size=3, stride=1, padding=0), # 5\n",
        "            nn.ReLU(inplace=True)\n",
        "        )\n",
        "        \n",
        "        self.classifier = nn.Sequential(\n",
        "            nn.Linear(5*5*128, 1024),\n",
        "            nn.ReLU(inplace=True),\n",
        "            nn.Dropout(),\n",
        "            nn.Linear(1024, 1024),\n",
        "            nn.ReLU(inplace=True),\n",
        "            nn.Dropout(),\n",
        "            nn.Linear(1024, number_classes),\n",
        "        ) # No softmax because CrossEntropy loss does it.\n",
        "\n",
        "    def forward(self, x):\n",
        "        x = self.features(x)\n",
        "        x = x.view(x.size(0), 128 * 5 * 5)\n",
        "        x = self.classifier(x)\n",
        "        return x\n",
        "# batch_size*num_features*height*width\n",
        "\n",
        "\n",
        "class LSTM(nn.Module):\n",
        "    def __init__(self, number_classes=3):\n",
        "        super(LSTM, self).__init__()\n",
        "        self.f1 = nn.LSTM(input_size=28, hidden_size=64, num_layers=1, batch_first=False)\n",
        "        self.f2 = nn.Linear(64, number_classes)\n",
        "    def forward(self, x):\n",
        "        r_out, (h_n, h_c) = self.f1(x.reshape(-1, 28, 28), None)\n",
        "        out = self.f2(r_out[:, -1, :])#忘加f2\n",
        "        return out\n",
        "    \n",
        "class LSTM_BN(nn.Module):\n",
        "    def __init__(self, number_classes=3):\n",
        "        super(LSTM_BN, self).__init__()\n",
        "        self.f1 = nn.LSTM(input_size=28, hidden_size=64, num_layers=1, batch_first=False)\n",
        "        self.f2 = nn.BatchNorm1d(28)\n",
        "        self.f3 = nn.Linear(64, number_classes)\n",
        "    def forward(self, x):\n",
        "        r_out, (h_n, h_c) = self.f1(x.reshape(-1, 28, 28), None)\n",
        "        r_out = self.f2(r_out)\n",
        "        out = self.f3(r_out[:, -1, :])#忘加f2\n",
        "        return out\n",
        "    \n",
        "class LSTM2(nn.Module):\n",
        "    def __init__(self, number_classes=3):\n",
        "        super(LSTM2, self).__init__()\n",
        "        self.f1 = nn.LSTM(input_size=32 * 3, hidden_size=64, num_layers=3, batch_first=False)\n",
        "        self.f2 = nn.Linear(64, number_classes)\n",
        "    def forward(self, x):\n",
        "        r_out, (h_n, h_c) = self.f1(x.reshape(-1, 32, 32*3), None)\n",
        "        out = self.f2(r_out[:, -1, :])#忘加f2\n",
        "        return out\n",
        "    \n",
        "class LSTM2_BN(nn.Module):\n",
        "    def __init__(self, number_classes=3):\n",
        "        super(LSTM2_BN, self).__init__()\n",
        "        self.f1 = nn.LSTM(input_size=32 * 3, hidden_size=64, num_layers=3, batch_first=False)\n",
        "        self.f2 = nn.BatchNorm1d(32)\n",
        "        self.f3 = nn.Linear(64, number_classes)\n",
        "    def forward(self, x):\n",
        "        r_out, (h_n, h_c) = self.f1(x.reshape(-1, 32, 32*3), None)\n",
        "        r_out = self.f2(r_out)\n",
        "        out = self.f3(r_out[:, -1, :])#忘加f2\n",
        "        return out"
      ],
      "execution_count": 7,
      "outputs": []
    },
    {
      "cell_type": "code",
      "metadata": {
        "id": "Rn4oopTPMxbS"
      },
      "source": [
        "# Training and Evaluation\n",
        "class Evaluation(object):\n",
        "    \n",
        "    def __init__(self):\n",
        "        self.loss = []\n",
        "        self.accuracy = []\n",
        "\n",
        "    \n",
        "class Recordings():\n",
        "    \n",
        "    def __init__(self, progress_recording_frequency, evaluation_recording_frequency):\n",
        "        self.progress = []\n",
        "        self.evaluation = Evaluation()\n",
        "        self.progress_recording_frequency = progress_recording_frequency\n",
        "        self.evaluation_recording_frequency = evaluation_recording_frequency\n",
        "    \n",
        "    def log_progress(self, epoch, epochs, iteration, iterations):\n",
        "        print(f'\\n---- Epoch {epoch + 1}/{epochs}, Iteration {iteration + 1}/{iterations}')\n",
        "        print('Loss : {:.4f}'.format(self.progress[-1]))\n",
        "\n",
        "    def log_evaluation(self, epoch, epochs):\n",
        "        print(f'\\n----- Recording of Evaluation for epoch {epoch + 1}/{epochs}')\n",
        "        print('Loss: {:.4f}, Accuracy: {:.4f}'.format(self.evaluation.loss[-1], self.evaluation.accuracy[-1]))\n",
        "        \n",
        "    def display(self):\n",
        "        iterations_axes = [i * self.progress_recording_frequency for i in range(len(self.progress))]\n",
        "\n",
        "        # Progress Loss\n",
        "        fig, (ax1) = plt.subplots(1, 1, figsize=(9, 2))\n",
        "        ax1.plot(iterations_axes, self.progress, color='darkslategray')\n",
        "        fig.suptitle('Progress Loss')\n",
        "        ax1.set(xlabel='Iterations', ylabel='Loss')\n",
        "        plt.show()\n",
        "\n",
        "        iterations_axes = [i * self.evaluation_recording_frequency for i in range(len(self.evaluation.loss))]\n",
        "\n",
        "        # Evaluation Metrics\n",
        "        fig, (ax1, ax2) = plt.subplots(1, 2, figsize=(9, 2))\n",
        "        ax1.plot(iterations_axes, self.evaluation.loss, color='darkslategray')\n",
        "        ax1.set(xlabel='Epochs', ylabel='Loss')\n",
        "        ax2.plot(iterations_axes, self.evaluation.accuracy, color='darkslategray')\n",
        "        ax2.set(xlabel='Epochs', ylabel='Accuracy')\n",
        "        fig.suptitle('Evaluation Metrics Recording')\n",
        "        plt.show()\n",
        "        \n",
        "    def show_loss_rmse(self):\n",
        "        fig, (ax1, ax2) = plt.subplots(1, 2, figsize=(9, 2))\n",
        "        loss_his = self.evaluation.loss\n",
        "        rmse_his = self.evaluation.accuracy\n",
        "        x_loss = range(len(loss_his))\n",
        "        ax1.plot(x_loss, loss_his, label='loss', color = 'b', linewidth=3)\n",
        "        ax1.set_xlabel('epoches')\n",
        "        ax1.set_ylabel('loss')\n",
        "        ax1.legend()\n",
        "\n",
        "        x_rmse = range(len(rmse_his))\n",
        "        ax2.plot(x_rmse, rmse_his, label='rmse', color = 'r', linewidth=3)\n",
        "        ax2.set_xlabel('epoches')\n",
        "        ax2.set_ylabel('rmse')\n",
        "        ax2.legend()\n",
        "        \n",
        "        plt.show()\n",
        "        \n",
        "def evaluate(model, loader, device, validation=False):\n",
        "    # Eval flag\n",
        "    model.eval()\n",
        "\n",
        "    # Initialize metrics\n",
        "    loss = 0.\n",
        "    accuracy = 0.\n",
        "    \n",
        "    # Criterion\n",
        "    criterion = nn.CrossEntropyLoss()\n",
        "    \n",
        "    \n",
        "    with torch.no_grad():\n",
        "        for (inputs, labels) in loader:\n",
        "            # To device\n",
        "            inputs = inputs.to(device)\n",
        "            labels = labels.to(device)\n",
        "            \n",
        "            # Prediction\n",
        "            label_outputs = model(inputs.float())\n",
        "\n",
        "            # Update loss\n",
        "            loss += criterion(label_outputs, labels).data.item()\n",
        "\n",
        "            # Update Accuracies\n",
        "            predicted_labels = label_outputs.data.max(1)[1]\n",
        "            accuracy += predicted_labels.eq(labels.data).sum().item()\n",
        "\n",
        "    # Average metrics\n",
        "    loss /= len(loader)\n",
        "    if validation:        \n",
        "        accuracy /= len(loader.sampler.indices)\n",
        "    else:\n",
        "        accuracy /= len(loader.dataset)\n",
        "\n",
        "    return loss, accuracy"
      ],
      "execution_count": 8,
      "outputs": []
    },
    {
      "cell_type": "code",
      "metadata": {
        "id": "cljIVHqdMxbV"
      },
      "source": [
        "def train(model, optimizer, criterion, dataset, device, params, test_loader, transition_matrix=None, verbose=False):\n",
        "    print(\"Training by 10-fold and repeat with 10 epoches.....\")\n",
        "    model.to(device)\n",
        "    if verbose:\n",
        "        print('==== Start Training ====')\n",
        "    # Train Flag\n",
        "    model.train()\n",
        "    \n",
        "    # Recordings\n",
        "    recordings = Recordings(params.log_progress_every, params.evaluate_model_every)\n",
        "\n",
        "    # Number of classes\n",
        "    nbr_classes = len(set(dataset.tensors[1].numpy()))\n",
        "\n",
        "    # Type casting for inverse transition matrix\n",
        "    if transition_matrix is not None:\n",
        "        transition_matrix = transition_matrix.float()\n",
        "    \n",
        "    for epoch in range(params.epochs):\n",
        "        model.train() # by Tim G Tian Cudnn RNN backward can only be called in training mode\n",
        "\n",
        "        # For shuffling, regenerate the dataloaders\n",
        "        t_sampler, v_sampler = get_training_validation_samplers(dataset)\n",
        "        t_loader = DataLoader(dataset, batch_size=params.batch_size, sampler=t_sampler)\n",
        "        v_loader = DataLoader(dataset, batch_size=params.batch_size, sampler=v_sampler)\n",
        "        \n",
        "        for iteration, (inputs, labels) in enumerate(t_loader):\n",
        "            # Prepare to device\n",
        "            inputs = inputs.to(device)\n",
        "            labels = labels.to(device)\n",
        "            \n",
        "            # Reset grad\n",
        "            optimizer.zero_grad()\n",
        "\n",
        "            # Outputs\n",
        "            output_labels = model(inputs.float())\n",
        "\n",
        "            # Loss\n",
        "            if transition_matrix is not None:\n",
        "                unique_labels = [c * torch.ones(labels.size()[0]).long().to(device) for c in range(nbr_classes)]\n",
        "                losses = [criterion(output_labels, l) for l in unique_labels]\n",
        "                losses = torch.stack(losses)\n",
        "                corrected_losses = losses.transpose(0,1)@transition_matrix\n",
        "                loss = corrected_losses.gather(1, labels.view(-1,1)).mean()\n",
        "            else:\n",
        "                loss = criterion(output_labels, labels).mean()\n",
        "\n",
        "            # Optimize\n",
        "            loss.backward()\n",
        "            optimizer.step()\n",
        "            \n",
        "            # =======\n",
        "            # Log Progress\n",
        "            if ((iteration + 1) % params.log_progress_every == 0):\n",
        "                recordings.progress.append(loss.data.item())\n",
        "                if verbose:\n",
        "                    recordings.log_progress(epoch, params.epochs, iteration, len(t_loader))\n",
        "        \n",
        "        # Evaluate\n",
        "        if ((epoch + 1) % params.evaluate_model_every == 0):\n",
        "            evaluation_loss, evaluation_accuracy = evaluate(model, test_loader, device, validation=False)\n",
        "            recordings.evaluation.loss.append(evaluation_loss); recordings.evaluation.accuracy.append(evaluation_accuracy)\n",
        "\n",
        "            if verbose:\n",
        "                recordings.log_evaluation(epoch, params.epochs)\n",
        "\n",
        "        # Save temporary model\n",
        "        if ((epoch + 1) % params.save_model_every == 0):\n",
        "            torch.save(model.state_dict(), params.model_filename)\n",
        "    \n",
        "    # Save final model\n",
        "    torch.save(model.state_dict(), params.model_filename)\n",
        "\n",
        "    # Save recordings\n",
        "    serialize_object(recordings, params.recordings_filename)\n",
        "\n",
        "    if verbose:\n",
        "        print('==== End Training ====')\n",
        "    \n",
        "    return model, recordings\n",
        "        "
      ],
      "execution_count": 9,
      "outputs": []
    },
    {
      "cell_type": "code",
      "metadata": {
        "id": "201gc3sqMxbX"
      },
      "source": [
        "class Params(object):\n",
        "    ROOT_DIRECTORY = '/content/gdrive/My Drive/5328 Test Code'\n",
        "    batch_size = 252\n",
        "    epochs = 10\n",
        "    learning_rate = 0.01\n",
        "    momentum = 0.9\n",
        "    weight_decay = 0\n",
        "    \n",
        "    log_progress_every = 50 # in iterations\n",
        "    evaluate_model_every = 1 # in epochs\n",
        "\n",
        "    save_model_every = 25 # in epochs\n",
        "    model_filename = '{}/saves/model.pth'.format(ROOT_DIRECTORY)\n",
        "    recordings_filename = '{}/saves/recordings.pickle'.format(ROOT_DIRECTORY)\n",
        "\n",
        "def select_train(data_name='mnist05', classifer=\"cnn\", optimizer_name='sgd', loss='crossentropy', estimation=True):\n",
        "    params = Params()\n",
        "    print(params.model_filename)\n",
        "    \n",
        "    if classifer == 'cnn':\n",
        "        model = CNN(number_classes=3)\n",
        "        model.to(device)\n",
        "    elif classifer == 'cnn-bn':\n",
        "        model = CNN_BN(number_classes=3)\n",
        "        model.to(device)\n",
        "    elif classifer == 'cnn2':\n",
        "        model = CNN2(number_classes=3)\n",
        "        model.to(device)\n",
        "    elif classifer == 'cnn2-bn':\n",
        "        model = CNN2_BN(number_classes=3)\n",
        "        model.to(device)\n",
        "    elif classifer == 'lstm':\n",
        "        model = LSTM(number_classes=3)\n",
        "        model.to(device)\n",
        "    elif classifer == 'lstm-bn':\n",
        "        model = LSTM_BN(number_classes=3)\n",
        "        model.to(device)\n",
        "    elif classifer == 'lstm2':\n",
        "        model = LSTM2(number_classes=3)\n",
        "        model.to(device) \n",
        "    elif classifer == 'lstm2-bn':\n",
        "        model = LSTM2_BN(number_classes=3)\n",
        "        model.to(device) \n",
        "    else:\n",
        "        print('Wrong name of classifer.')\n",
        "        return\n",
        "    \n",
        "    if optimizer_name == 'sgd':\n",
        "        optimizer = optim.SGD(model.parameters(), lr=params.learning_rate, momentum=params.momentum, weight_decay=params.weight_decay)\n",
        "    elif optimizer_name == 'rmsprop':\n",
        "        optimizer = optim.RMSprop(model.parameters(), lr=params.learning_rate, momentum=params.momentum, weight_decay=params.weight_decay)\n",
        "    elif optimizer_name == 'adam':\n",
        "        optimizer = optim.Adam(model.parameters(), lr=params.learning_rate, weight_decay=params.weight_decay) # by tim g tian remove momentum\n",
        "    else:\n",
        "        print(\"Wrong name of optimizer.\")\n",
        "        return\n",
        "    criterion = nn.CrossEntropyLoss(reduction='none')   \n",
        "    \n",
        "    ########## Wrap data with loader ##########\n",
        "    mnist05_train_loader = DataLoader(mnist05_train_set, batch_size=params.batch_size, sampler=mnist05_train_sampler)\n",
        "    mnist05_validation_loader = DataLoader(mnist05_train_set, batch_size=params.batch_size, sampler=mnist05_validation_sampler)\n",
        "    mnist05_test_loader = DataLoader(mnist05_test_set, batch_size=params.batch_size, shuffle=False)\n",
        "\n",
        "    mnist06_train_loader = DataLoader(mnist06_train_set, batch_size=params.batch_size, sampler=mnist06_train_sampler)\n",
        "    mnist06_validation_loader = DataLoader(mnist06_train_set, batch_size=params.batch_size, sampler=mnist06_validation_sampler)\n",
        "    mnist06_test_loader = DataLoader(mnist06_test_set, batch_size=params.batch_size, shuffle=False)\n",
        "\n",
        "    cifar_train_loader = DataLoader(cifar_train_set, batch_size=params.batch_size, sampler=cifar_train_sampler)\n",
        "    cifar_validation_loader = DataLoader(cifar_train_set, batch_size=params.batch_size, sampler=cifar_validation_sampler)\n",
        "    cifar_test_loader = DataLoader(cifar_test_set, batch_size=params.batch_size, shuffle=False)\n",
        "\n",
        "\n",
        "    # ====================================\n",
        "    # Choose dataset and Transition Matrix\n",
        "    datasets_dict = {\n",
        "        \"mnist05\": {\n",
        "            \"loaders\": (mnist05_train_loader, mnist05_validation_loader, mnist05_test_loader),\n",
        "            \"dataset\": mnist05_train_set,\n",
        "            \"testset\": mnist05_test_set,\n",
        "            \"transition_matrix\": torch.from_numpy(mnist05_transitions.T).to(device) # Transpose because defined differently than in lectures\n",
        "            },\n",
        "        \"mnist06\": {\n",
        "            \"loaders\": (mnist06_train_loader, mnist06_validation_loader, mnist06_test_loader),\n",
        "            \"dataset\": mnist06_train_set,\n",
        "            \"testset\": mnist06_test_set,\n",
        "            \"transition_matrix\": torch.from_numpy(mnist06_transitions.T).to(device) # Transpose because defined differently than in lectures\n",
        "            },\n",
        "        \"cifar\": {\n",
        "            \"loaders\": (cifar_train_loader, cifar_validation_loader, cifar_test_loader),\n",
        "            \"dataset\": cifar_train_set,\n",
        "            \"testset\": cifar_test_set,\n",
        "            \"transition_matrix\": torch.from_numpy(np.array(\n",
        "                [[0.2796548,  0.37073188, 0.33353805],\n",
        "                [0.37033914, 0.35247205, 0.28679701],\n",
        "                [0.35000606, 0.27679607, 0.37966494]]\n",
        "                ).T).to(device)\n",
        "            },\n",
        "    }\n",
        "\n",
        "\n",
        "    train_loader, validation_loader, test_loader = datasets_dict[data_name]['loaders']\n",
        "    dataset = datasets_dict[data_name]['dataset']\n",
        "    testset = datasets_dict[data_name]['testset']\n",
        "\n",
        "    if not estimation:\n",
        "        transition_matrix = datasets_dict[data_name]['transition_matrix']\n",
        "    else:\n",
        "        transition_matrix = None\n",
        "    \n",
        "    model, recordings = train(model, optimizer, criterion, dataset, device, params, test_loader, transition_matrix=transition_matrix)\n",
        "    #loss, accuracy = evaluate(model, test_loader, device) #\n",
        "    return recordings"
      ],
      "execution_count": 10,
      "outputs": []
    },
    {
      "cell_type": "code",
      "metadata": {
        "id": "LKnTuPwLMxbZ"
      },
      "source": [
        " def draw_scores(mean1, mean2, mean3, std1, std2, std3, title=\"\", file=\"\"):\n",
        "    \n",
        "    labels = ['CNN', 'CNN-BN', 'LSTM', 'LSTM-BN']\n",
        "\n",
        "    x = np.arange(len(labels))  # the label locations\n",
        "    y = np.arange(0, 1, 0.1)\n",
        "    width = 0.25  # the width of the bars\n",
        "\n",
        "    fig, ax = plt.subplots(figsize=(12, 8))#可调整柱子粗细高低\n",
        "    rects1 = ax.bar(x - width, mean1, width, alpha=0.7, color='r' , yerr=std1, label='mnist05')\n",
        "    rects2 = ax.bar(x, mean2, width, alpha=0.7, color='b', yerr=std2, label='mnist06')\n",
        "    rects3 = ax.bar(x + width, mean3, width, alpha=0.7, color='g', yerr=std3, label='cifar')\n",
        "    \n",
        "    \n",
        "    \n",
        "    # Add some text for labels, title and custom x-axis tick labels, etc.\n",
        "    ax.yaxis.set_tick_params(labelsize=18)\n",
        "    ax.set_ylabel('Accuracy', fontsize=18)\n",
        "    ax.set_title(title, fontsize=18)\n",
        "    ax.set_xticks(x)\n",
        "    ax.set_yticks(y)\n",
        "    ax.set_xticklabels(labels,fontsize=18)\n",
        "    ax.legend(loc=(0.65, 0.9))\n",
        "    \n",
        "    for rect in rects1:\n",
        "        height = rect.get_height()\n",
        "        ax.annotate('{:.3f}'.format(height),\n",
        "                    xy=(rect.get_x() + rect.get_width() / 2, height),\n",
        "                    xytext=(0, 3),  # 3 points vertical offset\n",
        "                    textcoords=\"offset points\",\n",
        "                    ha='center', va='bottom', fontsize=12)\n",
        "        \n",
        "    for rect in rects2:\n",
        "        height = rect.get_height()\n",
        "        ax.annotate('{:.3f}'.format(height),\n",
        "                    xy=(rect.get_x() + rect.get_width() / 2, height),\n",
        "                    xytext=(0, 3),  # 3 points vertical offset\n",
        "                    textcoords=\"offset points\",\n",
        "                    ha='center', va='bottom', fontsize=12)\n",
        "        \n",
        "    for rect in rects3:\n",
        "        height = rect.get_height()\n",
        "        ax.annotate('{:.3f}'.format(height),\n",
        "                    xy=(rect.get_x() + rect.get_width() / 2, height),\n",
        "                    xytext=(0, 3),  # 3 points vertical offset\n",
        "                    textcoords=\"offset points\",\n",
        "                    ha='center', va='bottom', fontsize=12)\n",
        "    \n",
        "    \n",
        "    \n",
        "    fig.tight_layout()\n",
        "    plt.savefig(file + \".jpg\")"
      ],
      "execution_count": 11,
      "outputs": []
    },
    {
      "cell_type": "markdown",
      "metadata": {
        "id": "ckeK7YZKMxbc"
      },
      "source": [
        "# 1. Impact of classifers with Transitions"
      ]
    },
    {
      "cell_type": "markdown",
      "metadata": {
        "id": "aj3wuYdTMxbc"
      },
      "source": [
        "## 1.1 Different classifers(cnn, cnn-bn, lstm, lstm-bn) by sgd"
      ]
    },
    {
      "cell_type": "code",
      "metadata": {
        "id": "Tump31JjMxbd"
      },
      "source": [
        "mean1, mean2, mean3 = [], [], []\n",
        "std1, std2, std3 = [], [], []"
      ],
      "execution_count": 12,
      "outputs": []
    },
    {
      "cell_type": "markdown",
      "metadata": {
        "id": "he8KZsoyMxbf"
      },
      "source": [
        "### 1.1.1 with T"
      ]
    },
    {
      "cell_type": "code",
      "metadata": {
        "id": "peo9oIjBMxbf"
      },
      "source": [
        "classifer_dict = ['cnn', 'cnn-bn', 'lstm', 'lstm-bn']\n",
        "acc_list = [] # [0]: cnn, [1]: cnn-bn, [2]: lstm, [4]: lstm-bn"
      ],
      "execution_count": 13,
      "outputs": []
    },
    {
      "cell_type": "code",
      "metadata": {
        "id": "PHdU1lIjMxbh",
        "colab": {
          "base_uri": "https://localhost:8080/"
        },
        "outputId": "da3133f9-917f-4490-bd83-c29a460093a9"
      },
      "source": [
        "for i, classifer in enumerate(classifer_dict):\n",
        "    print(classifer)\n",
        "    recordings = select_train(data_name='mnist05', classifer=classifer, optimizer_name='sgd', loss='crossentropy', estimation=False)\n",
        "    acc_list.append(recordings.evaluation.accuracy)\n",
        "    print(classifer + ': | Mean of Accuracy: {:4.6f} | Std of Accuracy: {:4.6f} | Max of Accuracy: {:4.6f} | Min of Accuracy: {:4.6f}'\\\n",
        "      .format(np.mean(acc_list[i]), np.std(acc_list[i]), \\\n",
        "              np.max(acc_list[i]), np.min(acc_list[i])))"
      ],
      "execution_count": 14,
      "outputs": [
        {
          "output_type": "stream",
          "text": [
            "cnn\n",
            "/content/gdrive/My Drive/5328 Test Code/saves/model.pth\n",
            "Training by 10-fold and repeat with 10 epoches.....\n",
            "cnn: | Mean of Accuracy: 0.347667 | Std of Accuracy: 0.022226 | Max of Accuracy: 0.407667 | Min of Accuracy: 0.326667\n",
            "cnn-bn\n",
            "/content/gdrive/My Drive/5328 Test Code/saves/model.pth\n",
            "Training by 10-fold and repeat with 10 epoches.....\n",
            "cnn-bn: | Mean of Accuracy: 0.756233 | Std of Accuracy: 0.113938 | Max of Accuracy: 0.887667 | Min of Accuracy: 0.465333\n",
            "lstm\n",
            "/content/gdrive/My Drive/5328 Test Code/saves/model.pth\n",
            "Training by 10-fold and repeat with 10 epoches.....\n",
            "lstm: | Mean of Accuracy: 0.721267 | Std of Accuracy: 0.044667 | Max of Accuracy: 0.757333 | Min of Accuracy: 0.609667\n",
            "lstm-bn\n",
            "/content/gdrive/My Drive/5328 Test Code/saves/model.pth\n",
            "Training by 10-fold and repeat with 10 epoches.....\n",
            "lstm-bn: | Mean of Accuracy: 0.706333 | Std of Accuracy: 0.026861 | Max of Accuracy: 0.735667 | Min of Accuracy: 0.643667\n"
          ],
          "name": "stdout"
        }
      ]
    },
    {
      "cell_type": "code",
      "metadata": {
        "id": "n7nmNmaxMxbj"
      },
      "source": [
        "mean1 = [np.mean(accs) for accs in acc_list]\n",
        "std1 = [np.std(stds) for stds in acc_list]"
      ],
      "execution_count": 15,
      "outputs": []
    },
    {
      "cell_type": "code",
      "metadata": {
        "id": "2kFj_PDsMxbl",
        "colab": {
          "base_uri": "https://localhost:8080/"
        },
        "outputId": "adf0133e-8a4d-4ee1-df4f-122c43c5c971"
      },
      "source": [
        "classifer_dict = ['cnn', 'cnn-bn', 'lstm', 'lstm-bn']\n",
        "acc_list = [] # [0]: cnn, [1]: cnn-bn, [2]: lstm, [4]: lstm-bn\n",
        "for i, classifer in enumerate(classifer_dict):\n",
        "    recordings = select_train(data_name='mnist06', classifer=classifer, optimizer_name='sgd', loss='crossentropy', estimation=False)\n",
        "    acc_list.append(recordings.evaluation.accuracy)\n",
        "    print(classifer + ': | Mean of Accuracy: {:4.6f} | Std of Accuracy: {:4.6f} | Max of Accuracy: {:4.6f} | Min of Accuracy: {:4.6f}'\\\n",
        "      .format(np.mean(acc_list[i]), np.std(acc_list[i]), \\\n",
        "              np.max(acc_list[i]), np.min(acc_list[i])))\n",
        "mean2 = [np.mean(accs) for accs in acc_list]\n",
        "std2 = [np.std(stds) for stds in acc_list]"
      ],
      "execution_count": 16,
      "outputs": [
        {
          "output_type": "stream",
          "text": [
            "/content/gdrive/My Drive/5328 Test Code/saves/model.pth\n",
            "Training by 10-fold and repeat with 10 epoches.....\n",
            "cnn: | Mean of Accuracy: 0.333333 | Std of Accuracy: 0.000000 | Max of Accuracy: 0.333333 | Min of Accuracy: 0.333333\n",
            "/content/gdrive/My Drive/5328 Test Code/saves/model.pth\n",
            "Training by 10-fold and repeat with 10 epoches.....\n",
            "cnn-bn: | Mean of Accuracy: 0.514933 | Std of Accuracy: 0.079444 | Max of Accuracy: 0.686000 | Min of Accuracy: 0.391667\n",
            "/content/gdrive/My Drive/5328 Test Code/saves/model.pth\n",
            "Training by 10-fold and repeat with 10 epoches.....\n",
            "lstm: | Mean of Accuracy: 0.457833 | Std of Accuracy: 0.034937 | Max of Accuracy: 0.509667 | Min of Accuracy: 0.389333\n",
            "/content/gdrive/My Drive/5328 Test Code/saves/model.pth\n",
            "Training by 10-fold and repeat with 10 epoches.....\n",
            "lstm-bn: | Mean of Accuracy: 0.475833 | Std of Accuracy: 0.062288 | Max of Accuracy: 0.547667 | Min of Accuracy: 0.347333\n"
          ],
          "name": "stdout"
        }
      ]
    },
    {
      "cell_type": "code",
      "metadata": {
        "id": "l4kiiIaOMxbn",
        "colab": {
          "base_uri": "https://localhost:8080/"
        },
        "outputId": "7c471ee0-cd6d-4b2b-b6dc-a090a46d6c4a"
      },
      "source": [
        "classifer_dict = ['cnn2', 'cnn2-bn', 'lstm2', 'lstm2-bn']\n",
        "acc_list = [] # [0]: cnn, [1]: cnn-bn, [2]: lstm, [4]: lstm-bn\n",
        "for i, classifer in enumerate(classifer_dict):\n",
        "    recordings = select_train(data_name='cifar', classifer=classifer, optimizer_name='sgd', loss='crossentropy', estimation=False)\n",
        "    acc_list.append(recordings.evaluation.accuracy)\n",
        "    print(classifer + ': | Mean of Accuracy: {:4.6f} | Std of Accuracy: {:4.6f} | Max of Accuracy: {:4.6f} | Min of Accuracy: {:4.6f}'\\\n",
        "      .format(np.mean(acc_list[i]), np.std(acc_list[i]), \\\n",
        "              np.max(acc_list[i]), np.min(acc_list[i])))\n",
        "mean3 = [np.mean(accs) for accs in acc_list]\n",
        "std3 = [np.std(stds) for stds in acc_list]"
      ],
      "execution_count": 17,
      "outputs": [
        {
          "output_type": "stream",
          "text": [
            "/content/gdrive/My Drive/5328 Test Code/saves/model.pth\n",
            "Training by 10-fold and repeat with 10 epoches.....\n",
            "cnn2: | Mean of Accuracy: 0.329367 | Std of Accuracy: 0.005466 | Max of Accuracy: 0.337000 | Min of Accuracy: 0.320000\n",
            "/content/gdrive/My Drive/5328 Test Code/saves/model.pth\n",
            "Training by 10-fold and repeat with 10 epoches.....\n",
            "cnn2-bn: | Mean of Accuracy: 0.333100 | Std of Accuracy: 0.012896 | Max of Accuracy: 0.359000 | Min of Accuracy: 0.301667\n",
            "/content/gdrive/My Drive/5328 Test Code/saves/model.pth\n",
            "Training by 10-fold and repeat with 10 epoches.....\n",
            "lstm2: | Mean of Accuracy: 0.336200 | Std of Accuracy: 0.003798 | Max of Accuracy: 0.343333 | Min of Accuracy: 0.330667\n",
            "/content/gdrive/My Drive/5328 Test Code/saves/model.pth\n",
            "Training by 10-fold and repeat with 10 epoches.....\n",
            "lstm2-bn: | Mean of Accuracy: 0.350200 | Std of Accuracy: 0.010255 | Max of Accuracy: 0.365667 | Min of Accuracy: 0.331333\n"
          ],
          "name": "stdout"
        }
      ]
    },
    {
      "cell_type": "code",
      "metadata": {
        "colab": {
          "base_uri": "https://localhost:8080/",
          "height": 173
        },
        "id": "sVUY9kkUwyuI",
        "outputId": "1f9bfc2e-1e0d-45e6-9892-2ff57134edf5"
      },
      "source": [
        "# By Tim to get Mean +/- standard deviation\n",
        "\n",
        "\n",
        "import pandas as pd\n",
        "import numpy as np\n",
        "\n",
        "mean1_std = [str(round(mu1,4)) + u\"\\u00B1\" + str(round(std1,4)) for mu1, std1 in zip(mean1, std1)]\n",
        "mean2_std = [str(round(mu2,4)) + u\"\\u00B1\" + str(round(std2,4)) for mu2, std2 in zip(mean2, std3)]\n",
        "mean3_std = [str(round(mu3,4)) + u\"\\u00B1\" + str(round(std3,4)) for mu3, std3 in zip(mean3, std3)]\n",
        "\n",
        "mu_std_tbl_label = [\"CNN\",\"CNN+BN\", \"LSTM\", \"LSTM+BN\"]\n",
        "pd.DataFrame(list(zip(mu_std_tbl_label, mean1_std,mean2_std,mean3_std)),columns=[\"Classifier_SGD_WithT\",\"mnist05\", \"minis06\", \"cifar\"])\n"
      ],
      "execution_count": 18,
      "outputs": [
        {
          "output_type": "execute_result",
          "data": {
            "text/html": [
              "<div>\n",
              "<style scoped>\n",
              "    .dataframe tbody tr th:only-of-type {\n",
              "        vertical-align: middle;\n",
              "    }\n",
              "\n",
              "    .dataframe tbody tr th {\n",
              "        vertical-align: top;\n",
              "    }\n",
              "\n",
              "    .dataframe thead th {\n",
              "        text-align: right;\n",
              "    }\n",
              "</style>\n",
              "<table border=\"1\" class=\"dataframe\">\n",
              "  <thead>\n",
              "    <tr style=\"text-align: right;\">\n",
              "      <th></th>\n",
              "      <th>Classifier_SGD_WithT</th>\n",
              "      <th>mnist05</th>\n",
              "      <th>minis06</th>\n",
              "      <th>cifar</th>\n",
              "    </tr>\n",
              "  </thead>\n",
              "  <tbody>\n",
              "    <tr>\n",
              "      <th>0</th>\n",
              "      <td>CNN</td>\n",
              "      <td>0.3477±0.0222</td>\n",
              "      <td>0.3333±0.0055</td>\n",
              "      <td>0.3294±0.0055</td>\n",
              "    </tr>\n",
              "    <tr>\n",
              "      <th>1</th>\n",
              "      <td>CNN+BN</td>\n",
              "      <td>0.7562±0.1139</td>\n",
              "      <td>0.5149±0.0129</td>\n",
              "      <td>0.3331±0.0129</td>\n",
              "    </tr>\n",
              "    <tr>\n",
              "      <th>2</th>\n",
              "      <td>LSTM</td>\n",
              "      <td>0.7213±0.0447</td>\n",
              "      <td>0.4578±0.0038</td>\n",
              "      <td>0.3362±0.0038</td>\n",
              "    </tr>\n",
              "    <tr>\n",
              "      <th>3</th>\n",
              "      <td>LSTM+BN</td>\n",
              "      <td>0.7063±0.0269</td>\n",
              "      <td>0.4758±0.0103</td>\n",
              "      <td>0.3502±0.0103</td>\n",
              "    </tr>\n",
              "  </tbody>\n",
              "</table>\n",
              "</div>"
            ],
            "text/plain": [
              "  Classifier_SGD_WithT        mnist05        minis06          cifar\n",
              "0                  CNN  0.3477±0.0222  0.3333±0.0055  0.3294±0.0055\n",
              "1               CNN+BN  0.7562±0.1139  0.5149±0.0129  0.3331±0.0129\n",
              "2                 LSTM  0.7213±0.0447  0.4578±0.0038  0.3362±0.0038\n",
              "3              LSTM+BN  0.7063±0.0269  0.4758±0.0103  0.3502±0.0103"
            ]
          },
          "metadata": {
            "tags": []
          },
          "execution_count": 18
        }
      ]
    },
    {
      "cell_type": "code",
      "metadata": {
        "id": "m3yri55TMxbq",
        "colab": {
          "base_uri": "https://localhost:8080/",
          "height": 585
        },
        "outputId": "9646ecbf-ff1e-4f54-aa24-2e183aa38cbb"
      },
      "source": [
        "draw_scores(mean1, mean2, mean3, std1, std2, std3, title=\"Classifiers With Transition Matrix by SGD\", file=\"classifers_with_transition_sgd\")"
      ],
      "execution_count": 19,
      "outputs": [
        {
          "output_type": "display_data",
          "data": {
            "image/png": "[encoded data removed]",
            "text/plain": [
              "<Figure size 864x576 with 1 Axes>"
            ]
          },
          "metadata": {
            "tags": [],
            "needs_background": "light"
          }
        }
      ]
    },
    {
      "cell_type": "markdown",
      "metadata": {
        "id": "a_ZhtoCAMxbr"
      },
      "source": [
        "### 1.1.2 without T"
      ]
    },
    {
      "cell_type": "code",
      "metadata": {
        "id": "_8B8gtjNMxbs",
        "colab": {
          "base_uri": "https://localhost:8080/"
        },
        "outputId": "b8f8de8c-896b-4531-8f15-4932af283aac"
      },
      "source": [
        "classifer_dict = ['cnn', 'cnn-bn', 'lstm', 'lstm-bn']\n",
        "acc_list = [] # [0]: cnn, [1]: cnn-bn, [2]: lstm, [4]: lstm-bn\n",
        "for i, classifer in enumerate(classifer_dict):\n",
        "    recordings = select_train(data_name='mnist05', classifer=classifer, optimizer_name='sgd', loss='crossentropy', estimation=True)\n",
        "    acc_list.append(recordings.evaluation.accuracy)\n",
        "    print(classifer + ': | Mean of Accuracy: {:4.6f} | Std of Accuracy: {:4.6f} | Max of Accuracy: {:4.6f} | Min of Accuracy: {:4.6f}'\\\n",
        "      .format(np.mean(acc_list[i]), np.std(acc_list[i]), \\\n",
        "              np.max(acc_list[i]), np.min(acc_list[i])))\n",
        "mean1 = [np.mean(accs) for accs in acc_list]\n",
        "std1 = [np.std(stds) for stds in acc_list]\n",
        "\n",
        "\n",
        "\n",
        "\n",
        "classifer_dict = ['cnn', 'cnn-bn', 'lstm', 'lstm-bn']\n",
        "acc_list = [] # [0]: cnn, [1]: cnn-bn, [2]: lstm, [4]: lstm-bn\n",
        "for i, classifer in enumerate(classifer_dict):\n",
        "    recordings = select_train(data_name='mnist06', classifer=classifer, optimizer_name='sgd', loss='crossentropy', estimation=True)\n",
        "    acc_list.append(recordings.evaluation.accuracy)\n",
        "    print(classifer + ': | Mean of Accuracy: {:4.6f} | Std of Accuracy: {:4.6f} | Max of Accuracy: {:4.6f} | Min of Accuracy: {:4.6f}'\\\n",
        "      .format(np.mean(acc_list[i]), np.std(acc_list[i]), \\\n",
        "              np.max(acc_list[i]), np.min(acc_list[i])))\n",
        "mean2 = [np.mean(accs) for accs in acc_list]\n",
        "std2 = [np.std(stds) for stds in acc_list]\n",
        "\n",
        "\n",
        "classifer_dict = ['cnn2', 'cnn2-bn', 'lstm2', 'lstm2-bn']\n",
        "acc_list = [] # [0]: cnn, [1]: cnn-bn, [2]: lstm, [4]: lstm-bn\n",
        "for i, classifer in enumerate(classifer_dict):\n",
        "    recordings = select_train(data_name='cifar', classifer=classifer, optimizer_name='sgd', loss='crossentropy', estimation=True)\n",
        "    acc_list.append(recordings.evaluation.accuracy)\n",
        "    print(classifer + ': | Mean of Accuracy: {:4.6f} | Std of Accuracy: {:4.6f} | Max of Accuracy: {:4.6f} | Min of Accuracy: {:4.6f}'\\\n",
        "      .format(np.mean(acc_list[i]), np.std(acc_list[i]), \\\n",
        "              np.max(acc_list[i]), np.min(acc_list[i])))\n",
        "mean3 = [np.mean(accs) for accs in acc_list]\n",
        "std3 = [np.std(stds) for stds in acc_list]\n",
        "\n",
        "\n"
      ],
      "execution_count": 20,
      "outputs": [
        {
          "output_type": "stream",
          "text": [
            "/content/gdrive/My Drive/5328 Test Code/saves/model.pth\n",
            "Training by 10-fold and repeat with 10 epoches.....\n",
            "cnn: | Mean of Accuracy: 0.335067 | Std of Accuracy: 0.004208 | Max of Accuracy: 0.347667 | Min of Accuracy: 0.333333\n",
            "/content/gdrive/My Drive/5328 Test Code/saves/model.pth\n",
            "Training by 10-fold and repeat with 10 epoches.....\n",
            "cnn-bn: | Mean of Accuracy: 0.739100 | Std of Accuracy: 0.110499 | Max of Accuracy: 0.895000 | Min of Accuracy: 0.563667\n",
            "/content/gdrive/My Drive/5328 Test Code/saves/model.pth\n",
            "Training by 10-fold and repeat with 10 epoches.....\n",
            "lstm: | Mean of Accuracy: 0.726133 | Std of Accuracy: 0.022830 | Max of Accuracy: 0.760000 | Min of Accuracy: 0.688333\n",
            "/content/gdrive/My Drive/5328 Test Code/saves/model.pth\n",
            "Training by 10-fold and repeat with 10 epoches.....\n",
            "lstm-bn: | Mean of Accuracy: 0.736967 | Std of Accuracy: 0.022164 | Max of Accuracy: 0.778333 | Min of Accuracy: 0.695667\n",
            "/content/gdrive/My Drive/5328 Test Code/saves/model.pth\n",
            "Training by 10-fold and repeat with 10 epoches.....\n",
            "cnn: | Mean of Accuracy: 0.333333 | Std of Accuracy: 0.000000 | Max of Accuracy: 0.333333 | Min of Accuracy: 0.333333\n",
            "/content/gdrive/My Drive/5328 Test Code/saves/model.pth\n",
            "Training by 10-fold and repeat with 10 epoches.....\n",
            "cnn-bn: | Mean of Accuracy: 0.542167 | Std of Accuracy: 0.120475 | Max of Accuracy: 0.752667 | Min of Accuracy: 0.390333\n",
            "/content/gdrive/My Drive/5328 Test Code/saves/model.pth\n",
            "Training by 10-fold and repeat with 10 epoches.....\n",
            "lstm: | Mean of Accuracy: 0.648567 | Std of Accuracy: 0.034629 | Max of Accuracy: 0.699667 | Min of Accuracy: 0.592000\n",
            "/content/gdrive/My Drive/5328 Test Code/saves/model.pth\n",
            "Training by 10-fold and repeat with 10 epoches.....\n",
            "lstm-bn: | Mean of Accuracy: 0.641233 | Std of Accuracy: 0.038829 | Max of Accuracy: 0.695667 | Min of Accuracy: 0.580667\n",
            "/content/gdrive/My Drive/5328 Test Code/saves/model.pth\n",
            "Training by 10-fold and repeat with 10 epoches.....\n",
            "cnn2: | Mean of Accuracy: 0.501467 | Std of Accuracy: 0.053926 | Max of Accuracy: 0.585333 | Min of Accuracy: 0.434000\n",
            "/content/gdrive/My Drive/5328 Test Code/saves/model.pth\n",
            "Training by 10-fold and repeat with 10 epoches.....\n",
            "cnn2-bn: | Mean of Accuracy: 0.400300 | Std of Accuracy: 0.036254 | Max of Accuracy: 0.473667 | Min of Accuracy: 0.351333\n",
            "/content/gdrive/My Drive/5328 Test Code/saves/model.pth\n",
            "Training by 10-fold and repeat with 10 epoches.....\n",
            "lstm2: | Mean of Accuracy: 0.340567 | Std of Accuracy: 0.007683 | Max of Accuracy: 0.355333 | Min of Accuracy: 0.331000\n",
            "/content/gdrive/My Drive/5328 Test Code/saves/model.pth\n",
            "Training by 10-fold and repeat with 10 epoches.....\n",
            "lstm2-bn: | Mean of Accuracy: 0.332033 | Std of Accuracy: 0.005197 | Max of Accuracy: 0.340333 | Min of Accuracy: 0.318667\n"
          ],
          "name": "stdout"
        }
      ]
    },
    {
      "cell_type": "code",
      "metadata": {
        "colab": {
          "base_uri": "https://localhost:8080/",
          "height": 173
        },
        "id": "E_KZX5NO1aAN",
        "outputId": "1cf7b44b-de52-4dd6-b0ed-aa5e1c03ea37"
      },
      "source": [
        "# By Tim to get Mean +/- standard deviation\n",
        "\n",
        "\n",
        "import pandas as pd\n",
        "import numpy as np\n",
        "\n",
        "mean1_std = [str(round(mu1,4)) + u\"\\u00B1\" + str(round(std1,4)) for mu1, std1 in zip(mean1, std1)]\n",
        "mean2_std = [str(round(mu2,4)) + u\"\\u00B1\" + str(round(std2,4)) for mu2, std2 in zip(mean2, std3)]\n",
        "mean3_std = [str(round(mu3,4)) + u\"\\u00B1\" + str(round(std3,4)) for mu3, std3 in zip(mean3, std3)]\n",
        "\n",
        "mu_std_tbl_label = [\"CNN\",\"CNN+BN\", \"LSTM\", \"LSTM+BN\"]\n",
        "pd.DataFrame(list(zip(mu_std_tbl_label, mean1_std,mean2_std,mean3_std)),columns=[\"Classifier_SGD_WithoutT\",\"mnist05\", \"minis06\", \"cifar\"])"
      ],
      "execution_count": 21,
      "outputs": [
        {
          "output_type": "execute_result",
          "data": {
            "text/html": [
              "<div>\n",
              "<style scoped>\n",
              "    .dataframe tbody tr th:only-of-type {\n",
              "        vertical-align: middle;\n",
              "    }\n",
              "\n",
              "    .dataframe tbody tr th {\n",
              "        vertical-align: top;\n",
              "    }\n",
              "\n",
              "    .dataframe thead th {\n",
              "        text-align: right;\n",
              "    }\n",
              "</style>\n",
              "<table border=\"1\" class=\"dataframe\">\n",
              "  <thead>\n",
              "    <tr style=\"text-align: right;\">\n",
              "      <th></th>\n",
              "      <th>Classifier_SGD_WithoutT</th>\n",
              "      <th>mnist05</th>\n",
              "      <th>minis06</th>\n",
              "      <th>cifar</th>\n",
              "    </tr>\n",
              "  </thead>\n",
              "  <tbody>\n",
              "    <tr>\n",
              "      <th>0</th>\n",
              "      <td>CNN</td>\n",
              "      <td>0.3351±0.0042</td>\n",
              "      <td>0.3333±0.0539</td>\n",
              "      <td>0.5015±0.0539</td>\n",
              "    </tr>\n",
              "    <tr>\n",
              "      <th>1</th>\n",
              "      <td>CNN+BN</td>\n",
              "      <td>0.7391±0.1105</td>\n",
              "      <td>0.5422±0.0363</td>\n",
              "      <td>0.4003±0.0363</td>\n",
              "    </tr>\n",
              "    <tr>\n",
              "      <th>2</th>\n",
              "      <td>LSTM</td>\n",
              "      <td>0.7261±0.0228</td>\n",
              "      <td>0.6486±0.0077</td>\n",
              "      <td>0.3406±0.0077</td>\n",
              "    </tr>\n",
              "    <tr>\n",
              "      <th>3</th>\n",
              "      <td>LSTM+BN</td>\n",
              "      <td>0.737±0.0222</td>\n",
              "      <td>0.6412±0.0052</td>\n",
              "      <td>0.332±0.0052</td>\n",
              "    </tr>\n",
              "  </tbody>\n",
              "</table>\n",
              "</div>"
            ],
            "text/plain": [
              "  Classifier_SGD_WithoutT        mnist05        minis06          cifar\n",
              "0                     CNN  0.3351±0.0042  0.3333±0.0539  0.5015±0.0539\n",
              "1                  CNN+BN  0.7391±0.1105  0.5422±0.0363  0.4003±0.0363\n",
              "2                    LSTM  0.7261±0.0228  0.6486±0.0077  0.3406±0.0077\n",
              "3                 LSTM+BN   0.737±0.0222  0.6412±0.0052   0.332±0.0052"
            ]
          },
          "metadata": {
            "tags": []
          },
          "execution_count": 21
        }
      ]
    },
    {
      "cell_type": "code",
      "metadata": {
        "colab": {
          "base_uri": "https://localhost:8080/",
          "height": 585
        },
        "id": "2aO5Edp21oyv",
        "outputId": "1005672e-8565-418b-c69b-f6fff1f56c0a"
      },
      "source": [
        "draw_scores(mean1, mean2, mean3, std1, std2, std3, title=\"Classifiers Without Transition Matrix by SGD\", file=\"classifers_with_no_transition_sgd\")"
      ],
      "execution_count": 22,
      "outputs": [
        {
          "output_type": "display_data",
          "data": {
            "image/png": "[encoded data removed]",
            "text/plain": [
              "<Figure size 864x576 with 1 Axes>"
            ]
          },
          "metadata": {
            "tags": [],
            "needs_background": "light"
          }
        }
      ]
    },
    {
      "cell_type": "markdown",
      "metadata": {
        "id": "d2Ys9iSkMxbu"
      },
      "source": [
        "## 1.2 Different classifers(cnn, cnn-bn, lstm, lstm-bn) by RMSprop"
      ]
    },
    {
      "cell_type": "code",
      "metadata": {
        "id": "ySKmgGsdMxbu"
      },
      "source": [
        "mean1, mean2, mean3 = [], [], []\n",
        "std1, std2, std3 = [], [], []"
      ],
      "execution_count": 23,
      "outputs": []
    },
    {
      "cell_type": "markdown",
      "metadata": {
        "id": "Hmy98GC-Mxbw"
      },
      "source": [
        "### 1.2.1 with T"
      ]
    },
    {
      "cell_type": "code",
      "metadata": {
        "id": "92BftvmlMxbw",
        "colab": {
          "base_uri": "https://localhost:8080/"
        },
        "outputId": "9a4c7bd9-d0e2-46f4-ad58-53d92819f72d"
      },
      "source": [
        "classifer_dict = ['cnn', 'cnn-bn', 'lstm', 'lstm-bn']\n",
        "acc_list = [] # [0]: cnn, [1]: cnn-bn, [2]: lstm, [4]: lstm-bn\n",
        "for i, classifer in enumerate(classifer_dict):\n",
        "    recordings = select_train(data_name='mnist05', classifer=classifer, optimizer_name='rmsprop', loss='crossentropy', estimation=False)\n",
        "    acc_list.append(recordings.evaluation.accuracy)\n",
        "    print(classifer + ': | Mean of Accuracy: {:4.6f} | Std of Accuracy: {:4.6f} | Max of Accuracy: {:4.6f} | Min of Accuracy: {:4.6f}'\\\n",
        "      .format(np.mean(acc_list[i]), np.std(acc_list[i]), \\\n",
        "              np.max(acc_list[i]), np.min(acc_list[i])))\n",
        "mean1 = [np.mean(accs) for accs in acc_list]\n",
        "std1 = [np.std(stds) for stds in acc_list]\n",
        "\n",
        "\n",
        "\n",
        "\n",
        "classifer_dict = ['cnn', 'cnn-bn', 'lstm', 'lstm-bn']\n",
        "acc_list = [] # [0]: cnn, [1]: cnn-bn, [2]: lstm, [4]: lstm-bn\n",
        "for i, classifer in enumerate(classifer_dict):\n",
        "    recordings = select_train(data_name='mnist06', classifer=classifer, optimizer_name='rmsprop', loss='crossentropy', estimation=False)\n",
        "    acc_list.append(recordings.evaluation.accuracy)\n",
        "    print(classifer + ': | Mean of Accuracy: {:4.6f} | Std of Accuracy: {:4.6f} | Max of Accuracy: {:4.6f} | Min of Accuracy: {:4.6f}'\\\n",
        "      .format(np.mean(acc_list[i]), np.std(acc_list[i]), \\\n",
        "              np.max(acc_list[i]), np.min(acc_list[i])))\n",
        "mean2 = [np.mean(accs) for accs in acc_list]\n",
        "std2 = [np.std(stds) for stds in acc_list]\n",
        "\n",
        "\n",
        "classifer_dict = ['cnn2', 'cnn2-bn', 'lstm2', 'lstm2-bn']\n",
        "acc_list = [] # [0]: cnn, [1]: cnn-bn, [2]: lstm, [4]: lstm-bn\n",
        "for i, classifer in enumerate(classifer_dict):\n",
        "    recordings = select_train(data_name='cifar', classifer=classifer, optimizer_name='rmsprop', loss='crossentropy', estimation=False)\n",
        "    acc_list.append(recordings.evaluation.accuracy)\n",
        "    print(classifer + ': | Mean of Accuracy: {:4.6f} | Std of Accuracy: {:4.6f} | Max of Accuracy: {:4.6f} | Min of Accuracy: {:4.6f}'\\\n",
        "      .format(np.mean(acc_list[i]), np.std(acc_list[i]), \\\n",
        "              np.max(acc_list[i]), np.min(acc_list[i])))\n",
        "mean3 = [np.mean(accs) for accs in acc_list]\n",
        "std3 = [np.std(stds) for stds in acc_list]\n",
        "\n",
        "\n"
      ],
      "execution_count": 24,
      "outputs": [
        {
          "output_type": "stream",
          "text": [
            "/content/gdrive/My Drive/5328 Test Code/saves/model.pth\n",
            "Training by 10-fold and repeat with 10 epoches.....\n",
            "cnn: | Mean of Accuracy: 0.343000 | Std of Accuracy: 0.017404 | Max of Accuracy: 0.372333 | Min of Accuracy: 0.314333\n",
            "/content/gdrive/My Drive/5328 Test Code/saves/model.pth\n",
            "Training by 10-fold and repeat with 10 epoches.....\n",
            "cnn-bn: | Mean of Accuracy: 0.691833 | Std of Accuracy: 0.111862 | Max of Accuracy: 0.833000 | Min of Accuracy: 0.448667\n",
            "/content/gdrive/My Drive/5328 Test Code/saves/model.pth\n",
            "Training by 10-fold and repeat with 10 epoches.....\n",
            "lstm: | Mean of Accuracy: 0.527500 | Std of Accuracy: 0.106230 | Max of Accuracy: 0.651333 | Min of Accuracy: 0.333667\n",
            "/content/gdrive/My Drive/5328 Test Code/saves/model.pth\n",
            "Training by 10-fold and repeat with 10 epoches.....\n",
            "lstm-bn: | Mean of Accuracy: 0.477600 | Std of Accuracy: 0.124151 | Max of Accuracy: 0.686000 | Min of Accuracy: 0.331333\n",
            "/content/gdrive/My Drive/5328 Test Code/saves/model.pth\n",
            "Training by 10-fold and repeat with 10 epoches.....\n",
            "cnn: | Mean of Accuracy: 0.333333 | Std of Accuracy: 0.000000 | Max of Accuracy: 0.333333 | Min of Accuracy: 0.333333\n",
            "/content/gdrive/My Drive/5328 Test Code/saves/model.pth\n",
            "Training by 10-fold and repeat with 10 epoches.....\n",
            "cnn-bn: | Mean of Accuracy: 0.396367 | Std of Accuracy: 0.039192 | Max of Accuracy: 0.468333 | Min of Accuracy: 0.352000\n",
            "/content/gdrive/My Drive/5328 Test Code/saves/model.pth\n",
            "Training by 10-fold and repeat with 10 epoches.....\n",
            "lstm: | Mean of Accuracy: 0.342767 | Std of Accuracy: 0.030933 | Max of Accuracy: 0.415333 | Min of Accuracy: 0.288333\n",
            "/content/gdrive/My Drive/5328 Test Code/saves/model.pth\n",
            "Training by 10-fold and repeat with 10 epoches.....\n",
            "lstm-bn: | Mean of Accuracy: 0.368867 | Std of Accuracy: 0.050572 | Max of Accuracy: 0.480667 | Min of Accuracy: 0.333000\n",
            "/content/gdrive/My Drive/5328 Test Code/saves/model.pth\n",
            "Training by 10-fold and repeat with 10 epoches.....\n",
            "cnn2: | Mean of Accuracy: 0.333333 | Std of Accuracy: 0.000000 | Max of Accuracy: 0.333333 | Min of Accuracy: 0.333333\n",
            "/content/gdrive/My Drive/5328 Test Code/saves/model.pth\n",
            "Training by 10-fold and repeat with 10 epoches.....\n",
            "cnn2-bn: | Mean of Accuracy: 0.333333 | Std of Accuracy: 0.000000 | Max of Accuracy: 0.333333 | Min of Accuracy: 0.333333\n",
            "/content/gdrive/My Drive/5328 Test Code/saves/model.pth\n",
            "Training by 10-fold and repeat with 10 epoches.....\n",
            "lstm2: | Mean of Accuracy: 0.333933 | Std of Accuracy: 0.000929 | Max of Accuracy: 0.335667 | Min of Accuracy: 0.332000\n",
            "/content/gdrive/My Drive/5328 Test Code/saves/model.pth\n",
            "Training by 10-fold and repeat with 10 epoches.....\n",
            "lstm2-bn: | Mean of Accuracy: 0.335233 | Std of Accuracy: 0.000895 | Max of Accuracy: 0.337000 | Min of Accuracy: 0.333333\n"
          ],
          "name": "stdout"
        }
      ]
    },
    {
      "cell_type": "code",
      "metadata": {
        "colab": {
          "base_uri": "https://localhost:8080/",
          "height": 173
        },
        "id": "b2-_kjwj1x6t",
        "outputId": "53d16815-de95-4a24-d0a8-9f6db2950e09"
      },
      "source": [
        "# By Tim to get Mean +/- standard deviation\n",
        "\n",
        "\n",
        "import pandas as pd\n",
        "import numpy as np\n",
        "\n",
        "mean1_std = [str(round(mu1,4)) + u\"\\u00B1\" + str(round(std1,4)) for mu1, std1 in zip(mean1, std1)]\n",
        "mean2_std = [str(round(mu2,4)) + u\"\\u00B1\" + str(round(std2,4)) for mu2, std2 in zip(mean2, std3)]\n",
        "mean3_std = [str(round(mu3,4)) + u\"\\u00B1\" + str(round(std3,4)) for mu3, std3 in zip(mean3, std3)]\n",
        "\n",
        "mu_std_tbl_label = [\"CNN\",\"CNN+BN\", \"LSTM\", \"LSTM+BN\"]\n",
        "pd.DataFrame(list(zip(mu_std_tbl_label, mean1_std,mean2_std,mean3_std)),columns=[\"Classifier_RMSprop_WithT\",\"mnist05\", \"minis06\", \"cifar\"])"
      ],
      "execution_count": 25,
      "outputs": [
        {
          "output_type": "execute_result",
          "data": {
            "text/html": [
              "<div>\n",
              "<style scoped>\n",
              "    .dataframe tbody tr th:only-of-type {\n",
              "        vertical-align: middle;\n",
              "    }\n",
              "\n",
              "    .dataframe tbody tr th {\n",
              "        vertical-align: top;\n",
              "    }\n",
              "\n",
              "    .dataframe thead th {\n",
              "        text-align: right;\n",
              "    }\n",
              "</style>\n",
              "<table border=\"1\" class=\"dataframe\">\n",
              "  <thead>\n",
              "    <tr style=\"text-align: right;\">\n",
              "      <th></th>\n",
              "      <th>Classifier_RMSprop_WithT</th>\n",
              "      <th>mnist05</th>\n",
              "      <th>minis06</th>\n",
              "      <th>cifar</th>\n",
              "    </tr>\n",
              "  </thead>\n",
              "  <tbody>\n",
              "    <tr>\n",
              "      <th>0</th>\n",
              "      <td>CNN</td>\n",
              "      <td>0.343±0.0174</td>\n",
              "      <td>0.3333±0.0</td>\n",
              "      <td>0.3333±0.0</td>\n",
              "    </tr>\n",
              "    <tr>\n",
              "      <th>1</th>\n",
              "      <td>CNN+BN</td>\n",
              "      <td>0.6918±0.1119</td>\n",
              "      <td>0.3964±0.0</td>\n",
              "      <td>0.3333±0.0</td>\n",
              "    </tr>\n",
              "    <tr>\n",
              "      <th>2</th>\n",
              "      <td>LSTM</td>\n",
              "      <td>0.5275±0.1062</td>\n",
              "      <td>0.3428±0.0009</td>\n",
              "      <td>0.3339±0.0009</td>\n",
              "    </tr>\n",
              "    <tr>\n",
              "      <th>3</th>\n",
              "      <td>LSTM+BN</td>\n",
              "      <td>0.4776±0.1242</td>\n",
              "      <td>0.3689±0.0009</td>\n",
              "      <td>0.3352±0.0009</td>\n",
              "    </tr>\n",
              "  </tbody>\n",
              "</table>\n",
              "</div>"
            ],
            "text/plain": [
              "  Classifier_RMSprop_WithT        mnist05        minis06          cifar\n",
              "0                      CNN   0.343±0.0174     0.3333±0.0     0.3333±0.0\n",
              "1                   CNN+BN  0.6918±0.1119     0.3964±0.0     0.3333±0.0\n",
              "2                     LSTM  0.5275±0.1062  0.3428±0.0009  0.3339±0.0009\n",
              "3                  LSTM+BN  0.4776±0.1242  0.3689±0.0009  0.3352±0.0009"
            ]
          },
          "metadata": {
            "tags": []
          },
          "execution_count": 25
        }
      ]
    },
    {
      "cell_type": "code",
      "metadata": {
        "colab": {
          "base_uri": "https://localhost:8080/",
          "height": 585
        },
        "id": "sc9KxUKT1w7A",
        "outputId": "4408b3dd-aa14-4fdc-94dc-ec81d8aafff4"
      },
      "source": [
        "draw_scores(mean1, mean2, mean3, std1, std2, std3, title=\"Classifiers With Transition Matrix RMSprop\", file=\"classifers_with_transition_RMS\")"
      ],
      "execution_count": 26,
      "outputs": [
        {
          "output_type": "display_data",
          "data": {
            "image/png": "[encoded data removed]",
            "text/plain": [
              "<Figure size 864x576 with 1 Axes>"
            ]
          },
          "metadata": {
            "tags": [],
            "needs_background": "light"
          }
        }
      ]
    },
    {
      "cell_type": "markdown",
      "metadata": {
        "id": "3Yar0R1oMxby"
      },
      "source": [
        "### 1.2.2 without T"
      ]
    },
    {
      "cell_type": "code",
      "metadata": {
        "id": "mhrzZXhkMxbz",
        "colab": {
          "base_uri": "https://localhost:8080/"
        },
        "outputId": "40a4ca9f-eb70-4da2-b372-455228a422b9"
      },
      "source": [
        "classifer_dict = ['cnn', 'cnn-bn', 'lstm', 'lstm-bn']\n",
        "acc_list = [] # [0]: cnn, [1]: cnn-bn, [2]: lstm, [4]: lstm-bn\n",
        "for i, classifer in enumerate(classifer_dict):\n",
        "    recordings = select_train(data_name='mnist05', classifer=classifer, optimizer_name='rmsprop', loss='crossentropy', estimation=True)\n",
        "    acc_list.append(recordings.evaluation.accuracy)\n",
        "    print(classifer + ': | Mean of Accuracy: {:4.6f} | Std of Accuracy: {:4.6f} | Max of Accuracy: {:4.6f} | Min of Accuracy: {:4.6f}'\\\n",
        "      .format(np.mean(acc_list[i]), np.std(acc_list[i]), \\\n",
        "              np.max(acc_list[i]), np.min(acc_list[i])))\n",
        "mean1 = [np.mean(accs) for accs in acc_list]\n",
        "std1 = [np.std(stds) for stds in acc_list]\n",
        "\n",
        "\n",
        "\n",
        "\n",
        "classifer_dict = ['cnn', 'cnn-bn', 'lstm', 'lstm-bn']\n",
        "acc_list = [] # [0]: cnn, [1]: cnn-bn, [2]: lstm, [4]: lstm-bn\n",
        "for i, classifer in enumerate(classifer_dict):\n",
        "    recordings = select_train(data_name='mnist06', classifer=classifer, optimizer_name='rmsprop', loss='crossentropy', estimation=True)\n",
        "    acc_list.append(recordings.evaluation.accuracy)\n",
        "    print(classifer + ': | Mean of Accuracy: {:4.6f} | Std of Accuracy: {:4.6f} | Max of Accuracy: {:4.6f} | Min of Accuracy: {:4.6f}'\\\n",
        "      .format(np.mean(acc_list[i]), np.std(acc_list[i]), \\\n",
        "              np.max(acc_list[i]), np.min(acc_list[i])))\n",
        "mean2 = [np.mean(accs) for accs in acc_list]\n",
        "std2 = [np.std(stds) for stds in acc_list]\n",
        "\n",
        "\n",
        "classifer_dict = ['cnn2', 'cnn2-bn', 'lstm2', 'lstm2-bn']\n",
        "acc_list = [] # [0]: cnn, [1]: cnn-bn, [2]: lstm, [4]: lstm-bn\n",
        "for i, classifer in enumerate(classifer_dict):\n",
        "    recordings = select_train(data_name='cifar', classifer=classifer, optimizer_name='rmsprop', loss='crossentropy', estimation=True)\n",
        "    acc_list.append(recordings.evaluation.accuracy)\n",
        "    print(classifer + ': | Mean of Accuracy: {:4.6f} | Std of Accuracy: {:4.6f} | Max of Accuracy: {:4.6f} | Min of Accuracy: {:4.6f}'\\\n",
        "      .format(np.mean(acc_list[i]), np.std(acc_list[i]), \\\n",
        "              np.max(acc_list[i]), np.min(acc_list[i])))\n",
        "mean3 = [np.mean(accs) for accs in acc_list]\n",
        "std3 = [np.std(stds) for stds in acc_list]\n",
        "\n"
      ],
      "execution_count": 27,
      "outputs": [
        {
          "output_type": "stream",
          "text": [
            "/content/gdrive/My Drive/5328 Test Code/saves/model.pth\n",
            "Training by 10-fold and repeat with 10 epoches.....\n",
            "cnn: | Mean of Accuracy: 0.332467 | Std of Accuracy: 0.004359 | Max of Accuracy: 0.339000 | Min of Accuracy: 0.325667\n",
            "/content/gdrive/My Drive/5328 Test Code/saves/model.pth\n",
            "Training by 10-fold and repeat with 10 epoches.....\n",
            "cnn-bn: | Mean of Accuracy: 0.713200 | Std of Accuracy: 0.116043 | Max of Accuracy: 0.864333 | Min of Accuracy: 0.486333\n",
            "/content/gdrive/My Drive/5328 Test Code/saves/model.pth\n",
            "Training by 10-fold and repeat with 10 epoches.....\n",
            "lstm: | Mean of Accuracy: 0.528800 | Std of Accuracy: 0.109390 | Max of Accuracy: 0.721000 | Min of Accuracy: 0.344000\n",
            "/content/gdrive/My Drive/5328 Test Code/saves/model.pth\n",
            "Training by 10-fold and repeat with 10 epoches.....\n",
            "lstm-bn: | Mean of Accuracy: 0.571067 | Std of Accuracy: 0.085040 | Max of Accuracy: 0.702000 | Min of Accuracy: 0.372000\n",
            "/content/gdrive/My Drive/5328 Test Code/saves/model.pth\n",
            "Training by 10-fold and repeat with 10 epoches.....\n",
            "cnn: | Mean of Accuracy: 0.333633 | Std of Accuracy: 0.000314 | Max of Accuracy: 0.334333 | Min of Accuracy: 0.333333\n",
            "/content/gdrive/My Drive/5328 Test Code/saves/model.pth\n",
            "Training by 10-fold and repeat with 10 epoches.....\n",
            "cnn-bn: | Mean of Accuracy: 0.333333 | Std of Accuracy: 0.000258 | Max of Accuracy: 0.333667 | Min of Accuracy: 0.332667\n",
            "/content/gdrive/My Drive/5328 Test Code/saves/model.pth\n",
            "Training by 10-fold and repeat with 10 epoches.....\n",
            "lstm: | Mean of Accuracy: 0.429200 | Std of Accuracy: 0.084438 | Max of Accuracy: 0.554333 | Min of Accuracy: 0.331667\n",
            "/content/gdrive/My Drive/5328 Test Code/saves/model.pth\n",
            "Training by 10-fold and repeat with 10 epoches.....\n",
            "lstm-bn: | Mean of Accuracy: 0.360367 | Std of Accuracy: 0.045124 | Max of Accuracy: 0.485333 | Min of Accuracy: 0.333333\n",
            "/content/gdrive/My Drive/5328 Test Code/saves/model.pth\n",
            "Training by 10-fold and repeat with 10 epoches.....\n",
            "cnn2: | Mean of Accuracy: 0.333167 | Std of Accuracy: 0.000428 | Max of Accuracy: 0.333667 | Min of Accuracy: 0.332000\n",
            "/content/gdrive/My Drive/5328 Test Code/saves/model.pth\n",
            "Training by 10-fold and repeat with 10 epoches.....\n",
            "cnn2-bn: | Mean of Accuracy: 0.333267 | Std of Accuracy: 0.000133 | Max of Accuracy: 0.333333 | Min of Accuracy: 0.333000\n",
            "/content/gdrive/My Drive/5328 Test Code/saves/model.pth\n",
            "Training by 10-fold and repeat with 10 epoches.....\n",
            "lstm2: | Mean of Accuracy: 0.333067 | Std of Accuracy: 0.000389 | Max of Accuracy: 0.333333 | Min of Accuracy: 0.332333\n",
            "/content/gdrive/My Drive/5328 Test Code/saves/model.pth\n",
            "Training by 10-fold and repeat with 10 epoches.....\n",
            "lstm2-bn: | Mean of Accuracy: 0.333167 | Std of Accuracy: 0.000500 | Max of Accuracy: 0.333333 | Min of Accuracy: 0.331667\n"
          ],
          "name": "stdout"
        }
      ]
    },
    {
      "cell_type": "code",
      "metadata": {
        "colab": {
          "base_uri": "https://localhost:8080/",
          "height": 173
        },
        "id": "XjoUhMAl1_nu",
        "outputId": "112d613c-d86d-439a-d796-ab109122457e"
      },
      "source": [
        "# By Tim to get Mean +/- standard deviation\n",
        "\n",
        "\n",
        "import pandas as pd\n",
        "import numpy as np\n",
        "\n",
        "mean1_std = [str(round(mu1,4)) + u\"\\u00B1\" + str(round(std1,4)) for mu1, std1 in zip(mean1, std1)]\n",
        "mean2_std = [str(round(mu2,4)) + u\"\\u00B1\" + str(round(std2,4)) for mu2, std2 in zip(mean2, std3)]\n",
        "mean3_std = [str(round(mu3,4)) + u\"\\u00B1\" + str(round(std3,4)) for mu3, std3 in zip(mean3, std3)]\n",
        "\n",
        "mu_std_tbl_label = [\"CNN\",\"CNN+BN\", \"LSTM\", \"LSTM+BN\"]\n",
        "pd.DataFrame(list(zip(mu_std_tbl_label, mean1_std,mean2_std,mean3_std)),columns=[\"Classifier_RMSprop_WithoutT\",\"mnist05\", \"minis06\", \"cifar\"])"
      ],
      "execution_count": 28,
      "outputs": [
        {
          "output_type": "execute_result",
          "data": {
            "text/html": [
              "<div>\n",
              "<style scoped>\n",
              "    .dataframe tbody tr th:only-of-type {\n",
              "        vertical-align: middle;\n",
              "    }\n",
              "\n",
              "    .dataframe tbody tr th {\n",
              "        vertical-align: top;\n",
              "    }\n",
              "\n",
              "    .dataframe thead th {\n",
              "        text-align: right;\n",
              "    }\n",
              "</style>\n",
              "<table border=\"1\" class=\"dataframe\">\n",
              "  <thead>\n",
              "    <tr style=\"text-align: right;\">\n",
              "      <th></th>\n",
              "      <th>Classifier_RMSprop_WithoutT</th>\n",
              "      <th>mnist05</th>\n",
              "      <th>minis06</th>\n",
              "      <th>cifar</th>\n",
              "    </tr>\n",
              "  </thead>\n",
              "  <tbody>\n",
              "    <tr>\n",
              "      <th>0</th>\n",
              "      <td>CNN</td>\n",
              "      <td>0.3325±0.0044</td>\n",
              "      <td>0.3336±0.0004</td>\n",
              "      <td>0.3332±0.0004</td>\n",
              "    </tr>\n",
              "    <tr>\n",
              "      <th>1</th>\n",
              "      <td>CNN+BN</td>\n",
              "      <td>0.7132±0.116</td>\n",
              "      <td>0.3333±0.0001</td>\n",
              "      <td>0.3333±0.0001</td>\n",
              "    </tr>\n",
              "    <tr>\n",
              "      <th>2</th>\n",
              "      <td>LSTM</td>\n",
              "      <td>0.5288±0.1094</td>\n",
              "      <td>0.4292±0.0004</td>\n",
              "      <td>0.3331±0.0004</td>\n",
              "    </tr>\n",
              "    <tr>\n",
              "      <th>3</th>\n",
              "      <td>LSTM+BN</td>\n",
              "      <td>0.5711±0.085</td>\n",
              "      <td>0.3604±0.0005</td>\n",
              "      <td>0.3332±0.0005</td>\n",
              "    </tr>\n",
              "  </tbody>\n",
              "</table>\n",
              "</div>"
            ],
            "text/plain": [
              "  Classifier_RMSprop_WithoutT        mnist05        minis06          cifar\n",
              "0                         CNN  0.3325±0.0044  0.3336±0.0004  0.3332±0.0004\n",
              "1                      CNN+BN   0.7132±0.116  0.3333±0.0001  0.3333±0.0001\n",
              "2                        LSTM  0.5288±0.1094  0.4292±0.0004  0.3331±0.0004\n",
              "3                     LSTM+BN   0.5711±0.085  0.3604±0.0005  0.3332±0.0005"
            ]
          },
          "metadata": {
            "tags": []
          },
          "execution_count": 28
        }
      ]
    },
    {
      "cell_type": "code",
      "metadata": {
        "colab": {
          "base_uri": "https://localhost:8080/",
          "height": 585
        },
        "id": "1s72r4at2JIH",
        "outputId": "2e9bca2c-b6f1-418e-e770-7e83affbc433"
      },
      "source": [
        "draw_scores(mean1, mean2, mean3, std1, std2, std3, title=\"Classifiers Without Transition Matrix RMSprop\", file=\"classifers_no_transition_RMS\")"
      ],
      "execution_count": 29,
      "outputs": [
        {
          "output_type": "display_data",
          "data": {
            "image/png": "[encoded data removed]",
            "text/plain": [
              "<Figure size 864x576 with 1 Axes>"
            ]
          },
          "metadata": {
            "tags": [],
            "needs_background": "light"
          }
        }
      ]
    },
    {
      "cell_type": "markdown",
      "metadata": {
        "id": "2HEZ2DimMxb0"
      },
      "source": [
        "## 1.3 Different classifers(cnn, cnn-bn, lstm, lstm-bn) by Adam"
      ]
    },
    {
      "cell_type": "code",
      "metadata": {
        "id": "j_59Sg_2Mxb1"
      },
      "source": [
        "mean1, mean2, mean3 = [], [], []\n",
        "std1, std2, std3 = [], [], []"
      ],
      "execution_count": 30,
      "outputs": []
    },
    {
      "cell_type": "markdown",
      "metadata": {
        "id": "rOv4X_T9Mxb3"
      },
      "source": [
        "### 1.3.1 with T"
      ]
    },
    {
      "cell_type": "code",
      "metadata": {
        "id": "utUP2BdNMxb3",
        "colab": {
          "base_uri": "https://localhost:8080/"
        },
        "outputId": "0b3edfa8-c257-4767-f7d8-f6820322db70"
      },
      "source": [
        "classifer_dict = ['cnn', 'cnn-bn', 'lstm', 'lstm-bn']\n",
        "acc_list = [] # [0]: cnn, [1]: cnn-bn, [2]: lstm, [4]: lstm-bn\n",
        "for i, classifer in enumerate(classifer_dict):\n",
        "    recordings = select_train(data_name='mnist05', classifer=classifer, optimizer_name='adam', loss='crossentropy', estimation=False)\n",
        "    acc_list.append(recordings.evaluation.accuracy)\n",
        "    print(classifer + ': | Mean of Accuracy: {:4.6f} | Std of Accuracy: {:4.6f} | Max of Accuracy: {:4.6f} | Min of Accuracy: {:4.6f}'\\\n",
        "      .format(np.mean(acc_list[i]), np.std(acc_list[i]), \\\n",
        "              np.max(acc_list[i]), np.min(acc_list[i])))\n",
        "mean1 = [np.mean(accs) for accs in acc_list]\n",
        "std1 = [np.std(stds) for stds in acc_list]\n",
        "\n",
        "\n",
        "\n",
        "\n",
        "classifer_dict = ['cnn', 'cnn-bn', 'lstm', 'lstm-bn']\n",
        "acc_list = [] # [0]: cnn, [1]: cnn-bn, [2]: lstm, [4]: lstm-bn\n",
        "for i, classifer in enumerate(classifer_dict):\n",
        "    recordings = select_train(data_name='mnist06', classifer=classifer, optimizer_name='adam', loss='crossentropy', estimation=False)\n",
        "    acc_list.append(recordings.evaluation.accuracy)\n",
        "    print(classifer + ': | Mean of Accuracy: {:4.6f} | Std of Accuracy: {:4.6f} | Max of Accuracy: {:4.6f} | Min of Accuracy: {:4.6f}'\\\n",
        "      .format(np.mean(acc_list[i]), np.std(acc_list[i]), \\\n",
        "              np.max(acc_list[i]), np.min(acc_list[i])))\n",
        "mean2 = [np.mean(accs) for accs in acc_list]\n",
        "std2 = [np.std(stds) for stds in acc_list]\n",
        "\n",
        "\n",
        "classifer_dict = ['cnn2', 'cnn2-bn', 'lstm2', 'lstm2-bn']\n",
        "acc_list = [] # [0]: cnn, [1]: cnn-bn, [2]: lstm, [4]: lstm-bn\n",
        "for i, classifer in enumerate(classifer_dict):\n",
        "    recordings = select_train(data_name='cifar', classifer=classifer, optimizer_name='adam', loss='crossentropy', estimation=False)\n",
        "    acc_list.append(recordings.evaluation.accuracy)\n",
        "    print(classifer + ': | Mean of Accuracy: {:4.6f} | Std of Accuracy: {:4.6f} | Max of Accuracy: {:4.6f} | Min of Accuracy: {:4.6f}'\\\n",
        "      .format(np.mean(acc_list[i]), np.std(acc_list[i]), \\\n",
        "              np.max(acc_list[i]), np.min(acc_list[i])))\n",
        "mean3 = [np.mean(accs) for accs in acc_list]\n",
        "std3 = [np.std(stds) for stds in acc_list]\n",
        "\n",
        "\n"
      ],
      "execution_count": 31,
      "outputs": [
        {
          "output_type": "stream",
          "text": [
            "/content/gdrive/My Drive/5328 Test Code/saves/model.pth\n",
            "Training by 10-fold and repeat with 10 epoches.....\n",
            "cnn: | Mean of Accuracy: 0.640500 | Std of Accuracy: 0.095789 | Max of Accuracy: 0.750333 | Min of Accuracy: 0.407000\n",
            "/content/gdrive/My Drive/5328 Test Code/saves/model.pth\n",
            "Training by 10-fold and repeat with 10 epoches.....\n",
            "cnn-bn: | Mean of Accuracy: 0.694667 | Std of Accuracy: 0.120121 | Max of Accuracy: 0.790667 | Min of Accuracy: 0.377333\n",
            "/content/gdrive/My Drive/5328 Test Code/saves/model.pth\n",
            "Training by 10-fold and repeat with 10 epoches.....\n",
            "lstm: | Mean of Accuracy: 0.701633 | Std of Accuracy: 0.055391 | Max of Accuracy: 0.769333 | Min of Accuracy: 0.596000\n",
            "/content/gdrive/My Drive/5328 Test Code/saves/model.pth\n",
            "Training by 10-fold and repeat with 10 epoches.....\n",
            "lstm-bn: | Mean of Accuracy: 0.698567 | Std of Accuracy: 0.078370 | Max of Accuracy: 0.769333 | Min of Accuracy: 0.562333\n",
            "/content/gdrive/My Drive/5328 Test Code/saves/model.pth\n",
            "Training by 10-fold and repeat with 10 epoches.....\n",
            "cnn: | Mean of Accuracy: 0.425867 | Std of Accuracy: 0.014279 | Max of Accuracy: 0.445000 | Min of Accuracy: 0.394333\n",
            "/content/gdrive/My Drive/5328 Test Code/saves/model.pth\n",
            "Training by 10-fold and repeat with 10 epoches.....\n",
            "cnn-bn: | Mean of Accuracy: 0.456667 | Std of Accuracy: 0.110255 | Max of Accuracy: 0.663667 | Min of Accuracy: 0.316667\n",
            "/content/gdrive/My Drive/5328 Test Code/saves/model.pth\n",
            "Training by 10-fold and repeat with 10 epoches.....\n",
            "lstm: | Mean of Accuracy: 0.514900 | Std of Accuracy: 0.144810 | Max of Accuracy: 0.708667 | Min of Accuracy: 0.337667\n",
            "/content/gdrive/My Drive/5328 Test Code/saves/model.pth\n",
            "Training by 10-fold and repeat with 10 epoches.....\n",
            "lstm-bn: | Mean of Accuracy: 0.445633 | Std of Accuracy: 0.079281 | Max of Accuracy: 0.572333 | Min of Accuracy: 0.340000\n",
            "/content/gdrive/My Drive/5328 Test Code/saves/model.pth\n",
            "Training by 10-fold and repeat with 10 epoches.....\n",
            "cnn2: | Mean of Accuracy: 0.333333 | Std of Accuracy: 0.000000 | Max of Accuracy: 0.333333 | Min of Accuracy: 0.333333\n",
            "/content/gdrive/My Drive/5328 Test Code/saves/model.pth\n",
            "Training by 10-fold and repeat with 10 epoches.....\n",
            "cnn2-bn: | Mean of Accuracy: 0.333333 | Std of Accuracy: 0.000365 | Max of Accuracy: 0.334000 | Min of Accuracy: 0.332667\n",
            "/content/gdrive/My Drive/5328 Test Code/saves/model.pth\n",
            "Training by 10-fold and repeat with 10 epoches.....\n",
            "lstm2: | Mean of Accuracy: 0.333300 | Std of Accuracy: 0.000605 | Max of Accuracy: 0.334000 | Min of Accuracy: 0.331667\n",
            "/content/gdrive/My Drive/5328 Test Code/saves/model.pth\n",
            "Training by 10-fold and repeat with 10 epoches.....\n",
            "lstm2-bn: | Mean of Accuracy: 0.333533 | Std of Accuracy: 0.000933 | Max of Accuracy: 0.336000 | Min of Accuracy: 0.332333\n"
          ],
          "name": "stdout"
        }
      ]
    },
    {
      "cell_type": "code",
      "metadata": {
        "colab": {
          "base_uri": "https://localhost:8080/",
          "height": 173
        },
        "id": "Wlcg5X_O2OrX",
        "outputId": "edbc785b-9df5-432e-b9a5-994de1354ea3"
      },
      "source": [
        "# By Tim to get Mean +/- standard deviation\n",
        "\n",
        "\n",
        "import pandas as pd\n",
        "import numpy as np\n",
        "\n",
        "mean1_std = [str(round(mu1,4)) + u\"\\u00B1\" + str(round(std1,4)) for mu1, std1 in zip(mean1, std1)]\n",
        "mean2_std = [str(round(mu2,4)) + u\"\\u00B1\" + str(round(std2,4)) for mu2, std2 in zip(mean2, std3)]\n",
        "mean3_std = [str(round(mu3,4)) + u\"\\u00B1\" + str(round(std3,4)) for mu3, std3 in zip(mean3, std3)]\n",
        "\n",
        "mu_std_tbl_label = [\"CNN\",\"CNN+BN\", \"LSTM\", \"LSTM+BN\"]\n",
        "pd.DataFrame(list(zip(mu_std_tbl_label, mean1_std,mean2_std,mean3_std)),columns=[\"Classifier_Adamn_WithT\",\"mnist05\", \"minis06\", \"cifar\"])"
      ],
      "execution_count": 32,
      "outputs": [
        {
          "output_type": "execute_result",
          "data": {
            "text/html": [
              "<div>\n",
              "<style scoped>\n",
              "    .dataframe tbody tr th:only-of-type {\n",
              "        vertical-align: middle;\n",
              "    }\n",
              "\n",
              "    .dataframe tbody tr th {\n",
              "        vertical-align: top;\n",
              "    }\n",
              "\n",
              "    .dataframe thead th {\n",
              "        text-align: right;\n",
              "    }\n",
              "</style>\n",
              "<table border=\"1\" class=\"dataframe\">\n",
              "  <thead>\n",
              "    <tr style=\"text-align: right;\">\n",
              "      <th></th>\n",
              "      <th>Classifier_Adamn_WithT</th>\n",
              "      <th>mnist05</th>\n",
              "      <th>minis06</th>\n",
              "      <th>cifar</th>\n",
              "    </tr>\n",
              "  </thead>\n",
              "  <tbody>\n",
              "    <tr>\n",
              "      <th>0</th>\n",
              "      <td>CNN</td>\n",
              "      <td>0.6405±0.0958</td>\n",
              "      <td>0.4259±0.0</td>\n",
              "      <td>0.3333±0.0</td>\n",
              "    </tr>\n",
              "    <tr>\n",
              "      <th>1</th>\n",
              "      <td>CNN+BN</td>\n",
              "      <td>0.6947±0.1201</td>\n",
              "      <td>0.4567±0.0004</td>\n",
              "      <td>0.3333±0.0004</td>\n",
              "    </tr>\n",
              "    <tr>\n",
              "      <th>2</th>\n",
              "      <td>LSTM</td>\n",
              "      <td>0.7016±0.0554</td>\n",
              "      <td>0.5149±0.0006</td>\n",
              "      <td>0.3333±0.0006</td>\n",
              "    </tr>\n",
              "    <tr>\n",
              "      <th>3</th>\n",
              "      <td>LSTM+BN</td>\n",
              "      <td>0.6986±0.0784</td>\n",
              "      <td>0.4456±0.0009</td>\n",
              "      <td>0.3335±0.0009</td>\n",
              "    </tr>\n",
              "  </tbody>\n",
              "</table>\n",
              "</div>"
            ],
            "text/plain": [
              "  Classifier_Adamn_WithT        mnist05        minis06          cifar\n",
              "0                    CNN  0.6405±0.0958     0.4259±0.0     0.3333±0.0\n",
              "1                 CNN+BN  0.6947±0.1201  0.4567±0.0004  0.3333±0.0004\n",
              "2                   LSTM  0.7016±0.0554  0.5149±0.0006  0.3333±0.0006\n",
              "3                LSTM+BN  0.6986±0.0784  0.4456±0.0009  0.3335±0.0009"
            ]
          },
          "metadata": {
            "tags": []
          },
          "execution_count": 32
        }
      ]
    },
    {
      "cell_type": "code",
      "metadata": {
        "colab": {
          "base_uri": "https://localhost:8080/",
          "height": 585
        },
        "id": "9PWCYbBW2SOo",
        "outputId": "ca6d1c24-25aa-41a7-9a4e-101e56657360"
      },
      "source": [
        "draw_scores(mean1, mean2, mean3, std1, std2, std3, title=\"Classifers With Transition Matrix Adam\", file=\"classifers_with_transition_adam\")"
      ],
      "execution_count": 33,
      "outputs": [
        {
          "output_type": "display_data",
          "data": {
            "image/png": "[encoded data removed]",
            "text/plain": [
              "<Figure size 864x576 with 1 Axes>"
            ]
          },
          "metadata": {
            "tags": [],
            "needs_background": "light"
          }
        }
      ]
    },
    {
      "cell_type": "markdown",
      "metadata": {
        "id": "c7z51_RkMxb5"
      },
      "source": [
        "### 1.3.2 without T"
      ]
    },
    {
      "cell_type": "code",
      "metadata": {
        "id": "Qpse0ncyMxb5",
        "colab": {
          "base_uri": "https://localhost:8080/"
        },
        "outputId": "8fe1e9f0-fe4b-4735-9369-33ea3689cb71"
      },
      "source": [
        "classifer_dict = ['cnn', 'cnn-bn', 'lstm', 'lstm-bn']\n",
        "acc_list = [] # [0]: cnn, [1]: cnn-bn, [2]: lstm, [4]: lstm-bn\n",
        "for i, classifer in enumerate(classifer_dict):\n",
        "    recordings = select_train(data_name='mnist05', classifer=classifer, optimizer_name='adam', loss='crossentropy', estimation=True)\n",
        "    acc_list.append(recordings.evaluation.accuracy)\n",
        "    print(classifer + ': | Mean of Accuracy: {:4.6f} | Std of Accuracy: {:4.6f} | Max of Accuracy: {:4.6f} | Min of Accuracy: {:4.6f}'\\\n",
        "      .format(np.mean(acc_list[i]), np.std(acc_list[i]), \\\n",
        "              np.max(acc_list[i]), np.min(acc_list[i])))\n",
        "mean1 = [np.mean(accs) for accs in acc_list]\n",
        "std1 = [np.std(stds) for stds in acc_list]\n",
        "\n",
        "\n",
        "\n",
        "\n",
        "classifer_dict = ['cnn', 'cnn-bn', 'lstm', 'lstm-bn']\n",
        "acc_list = [] # [0]: cnn, [1]: cnn-bn, [2]: lstm, [4]: lstm-bn\n",
        "for i, classifer in enumerate(classifer_dict):\n",
        "    recordings = select_train(data_name='mnist06', classifer=classifer, optimizer_name='adam', loss='crossentropy', estimation=True)\n",
        "    acc_list.append(recordings.evaluation.accuracy)\n",
        "    print(classifer + ': | Mean of Accuracy: {:4.6f} | Std of Accuracy: {:4.6f} | Max of Accuracy: {:4.6f} | Min of Accuracy: {:4.6f}'\\\n",
        "      .format(np.mean(acc_list[i]), np.std(acc_list[i]), \\\n",
        "              np.max(acc_list[i]), np.min(acc_list[i])))\n",
        "mean2 = [np.mean(accs) for accs in acc_list]\n",
        "std2 = [np.std(stds) for stds in acc_list]\n",
        "\n",
        "\n",
        "classifer_dict = ['cnn2', 'cnn2-bn', 'lstm2', 'lstm2-bn']\n",
        "acc_list = [] # [0]: cnn, [1]: cnn-bn, [2]: lstm, [4]: lstm-bn\n",
        "for i, classifer in enumerate(classifer_dict):\n",
        "    recordings = select_train(data_name='cifar', classifer=classifer, optimizer_name='adam', loss='crossentropy', estimation=True)\n",
        "    acc_list.append(recordings.evaluation.accuracy)\n",
        "    print(classifer + ': | Mean of Accuracy: {:4.6f} | Std of Accuracy: {:4.6f} | Max of Accuracy: {:4.6f} | Min of Accuracy: {:4.6f}'\\\n",
        "      .format(np.mean(acc_list[i]), np.std(acc_list[i]), \\\n",
        "              np.max(acc_list[i]), np.min(acc_list[i])))\n",
        "mean3 = [np.mean(accs) for accs in acc_list]\n",
        "std3 = [np.std(stds) for stds in acc_list]\n",
        "\n"
      ],
      "execution_count": 34,
      "outputs": [
        {
          "output_type": "stream",
          "text": [
            "/content/gdrive/My Drive/5328 Test Code/saves/model.pth\n",
            "Training by 10-fold and repeat with 10 epoches.....\n",
            "cnn: | Mean of Accuracy: 0.463300 | Std of Accuracy: 0.167162 | Max of Accuracy: 0.759667 | Min of Accuracy: 0.328333\n",
            "/content/gdrive/My Drive/5328 Test Code/saves/model.pth\n",
            "Training by 10-fold and repeat with 10 epoches.....\n",
            "cnn-bn: | Mean of Accuracy: 0.849833 | Std of Accuracy: 0.062342 | Max of Accuracy: 0.912000 | Min of Accuracy: 0.725667\n",
            "/content/gdrive/My Drive/5328 Test Code/saves/model.pth\n",
            "Training by 10-fold and repeat with 10 epoches.....\n",
            "lstm: | Mean of Accuracy: 0.716167 | Std of Accuracy: 0.064959 | Max of Accuracy: 0.770000 | Min of Accuracy: 0.553667\n",
            "/content/gdrive/My Drive/5328 Test Code/saves/model.pth\n",
            "Training by 10-fold and repeat with 10 epoches.....\n",
            "lstm-bn: | Mean of Accuracy: 0.724267 | Std of Accuracy: 0.055730 | Max of Accuracy: 0.764000 | Min of Accuracy: 0.567667\n",
            "/content/gdrive/My Drive/5328 Test Code/saves/model.pth\n",
            "Training by 10-fold and repeat with 10 epoches.....\n",
            "cnn: | Mean of Accuracy: 0.545633 | Std of Accuracy: 0.096019 | Max of Accuracy: 0.651333 | Min of Accuracy: 0.333000\n",
            "/content/gdrive/My Drive/5328 Test Code/saves/model.pth\n",
            "Training by 10-fold and repeat with 10 epoches.....\n",
            "cnn-bn: | Mean of Accuracy: 0.655833 | Std of Accuracy: 0.087590 | Max of Accuracy: 0.826333 | Min of Accuracy: 0.485000\n",
            "/content/gdrive/My Drive/5328 Test Code/saves/model.pth\n",
            "Training by 10-fold and repeat with 10 epoches.....\n",
            "lstm: | Mean of Accuracy: 0.602033 | Std of Accuracy: 0.090875 | Max of Accuracy: 0.675000 | Min of Accuracy: 0.356333\n",
            "/content/gdrive/My Drive/5328 Test Code/saves/model.pth\n",
            "Training by 10-fold and repeat with 10 epoches.....\n",
            "lstm-bn: | Mean of Accuracy: 0.596367 | Std of Accuracy: 0.075810 | Max of Accuracy: 0.677000 | Min of Accuracy: 0.469667\n",
            "/content/gdrive/My Drive/5328 Test Code/saves/model.pth\n",
            "Training by 10-fold and repeat with 10 epoches.....\n",
            "cnn2: | Mean of Accuracy: 0.329300 | Std of Accuracy: 0.010304 | Max of Accuracy: 0.334333 | Min of Accuracy: 0.299000\n",
            "/content/gdrive/My Drive/5328 Test Code/saves/model.pth\n",
            "Training by 10-fold and repeat with 10 epoches.....\n",
            "cnn2-bn: | Mean of Accuracy: 0.333267 | Std of Accuracy: 0.000359 | Max of Accuracy: 0.334000 | Min of Accuracy: 0.332667\n",
            "/content/gdrive/My Drive/5328 Test Code/saves/model.pth\n",
            "Training by 10-fold and repeat with 10 epoches.....\n",
            "lstm2: | Mean of Accuracy: 0.333433 | Std of Accuracy: 0.000559 | Max of Accuracy: 0.335000 | Min of Accuracy: 0.332667\n",
            "/content/gdrive/My Drive/5328 Test Code/saves/model.pth\n",
            "Training by 10-fold and repeat with 10 epoches.....\n",
            "lstm2-bn: | Mean of Accuracy: 0.332300 | Std of Accuracy: 0.001169 | Max of Accuracy: 0.333333 | Min of Accuracy: 0.330333\n"
          ],
          "name": "stdout"
        }
      ]
    },
    {
      "cell_type": "code",
      "metadata": {
        "colab": {
          "base_uri": "https://localhost:8080/",
          "height": 173
        },
        "id": "1nQo9m4l2hPT",
        "outputId": "c1b79a6e-5f06-459c-eaf3-35ad773eabaa"
      },
      "source": [
        "# By Tim to get Mean +/- standard deviation\n",
        "\n",
        "\n",
        "import pandas as pd\n",
        "import numpy as np\n",
        "\n",
        "mean1_std = [str(round(mu1,4)) + u\"\\u00B1\" + str(round(std1,4)) for mu1, std1 in zip(mean1, std1)]\n",
        "mean2_std = [str(round(mu2,4)) + u\"\\u00B1\" + str(round(std2,4)) for mu2, std2 in zip(mean2, std3)]\n",
        "mean3_std = [str(round(mu3,4)) + u\"\\u00B1\" + str(round(std3,4)) for mu3, std3 in zip(mean3, std3)]\n",
        "\n",
        "mu_std_tbl_label = [\"CNN\",\"CNN+BN\", \"LSTM\", \"LSTM+BN\"]\n",
        "pd.DataFrame(list(zip(mu_std_tbl_label, mean1_std,mean2_std,mean3_std)),columns=[\"Classifier_Adamn_WithoutT\",\"mnist05\", \"minis06\", \"cifar\"])"
      ],
      "execution_count": 35,
      "outputs": [
        {
          "output_type": "execute_result",
          "data": {
            "text/html": [
              "<div>\n",
              "<style scoped>\n",
              "    .dataframe tbody tr th:only-of-type {\n",
              "        vertical-align: middle;\n",
              "    }\n",
              "\n",
              "    .dataframe tbody tr th {\n",
              "        vertical-align: top;\n",
              "    }\n",
              "\n",
              "    .dataframe thead th {\n",
              "        text-align: right;\n",
              "    }\n",
              "</style>\n",
              "<table border=\"1\" class=\"dataframe\">\n",
              "  <thead>\n",
              "    <tr style=\"text-align: right;\">\n",
              "      <th></th>\n",
              "      <th>Classifier_Adamn_WithoutT</th>\n",
              "      <th>mnist05</th>\n",
              "      <th>minis06</th>\n",
              "      <th>cifar</th>\n",
              "    </tr>\n",
              "  </thead>\n",
              "  <tbody>\n",
              "    <tr>\n",
              "      <th>0</th>\n",
              "      <td>CNN</td>\n",
              "      <td>0.4633±0.1672</td>\n",
              "      <td>0.5456±0.0103</td>\n",
              "      <td>0.3293±0.0103</td>\n",
              "    </tr>\n",
              "    <tr>\n",
              "      <th>1</th>\n",
              "      <td>CNN+BN</td>\n",
              "      <td>0.8498±0.0623</td>\n",
              "      <td>0.6558±0.0004</td>\n",
              "      <td>0.3333±0.0004</td>\n",
              "    </tr>\n",
              "    <tr>\n",
              "      <th>2</th>\n",
              "      <td>LSTM</td>\n",
              "      <td>0.7162±0.065</td>\n",
              "      <td>0.602±0.0006</td>\n",
              "      <td>0.3334±0.0006</td>\n",
              "    </tr>\n",
              "    <tr>\n",
              "      <th>3</th>\n",
              "      <td>LSTM+BN</td>\n",
              "      <td>0.7243±0.0557</td>\n",
              "      <td>0.5964±0.0012</td>\n",
              "      <td>0.3323±0.0012</td>\n",
              "    </tr>\n",
              "  </tbody>\n",
              "</table>\n",
              "</div>"
            ],
            "text/plain": [
              "  Classifier_Adamn_WithoutT        mnist05        minis06          cifar\n",
              "0                       CNN  0.4633±0.1672  0.5456±0.0103  0.3293±0.0103\n",
              "1                    CNN+BN  0.8498±0.0623  0.6558±0.0004  0.3333±0.0004\n",
              "2                      LSTM   0.7162±0.065   0.602±0.0006  0.3334±0.0006\n",
              "3                   LSTM+BN  0.7243±0.0557  0.5964±0.0012  0.3323±0.0012"
            ]
          },
          "metadata": {
            "tags": []
          },
          "execution_count": 35
        }
      ]
    },
    {
      "cell_type": "code",
      "metadata": {
        "colab": {
          "base_uri": "https://localhost:8080/",
          "height": 585
        },
        "id": "mFM0LVWf2n7q",
        "outputId": "7be32837-e936-47b5-a2a9-581a6b5dc3d0"
      },
      "source": [
        "draw_scores(mean1, mean2, mean3, std1, std2, std3, title=\"Classifers Without Transition Matrix Adam\", file=\"classifers_no_transition_adam\")"
      ],
      "execution_count": 36,
      "outputs": [
        {
          "output_type": "display_data",
          "data": {
            "image/png": "[encoded data removed]",
            "text/plain": [
              "<Figure size 864x576 with 1 Axes>"
            ]
          },
          "metadata": {
            "tags": [],
            "needs_background": "light"
          }
        }
      ]
    },
    {
      "cell_type": "code",
      "metadata": {
        "colab": {
          "base_uri": "https://localhost:8080/"
        },
        "id": "-ldgKaMwR6Ke",
        "outputId": "9315d34b-cc15-4d1b-f31e-60ca1d54bfa9"
      },
      "source": [
        "params = Params()\n",
        "########## Wrap data with loader ##########\n",
        "mnist05_train_loader = DataLoader(mnist05_train_set, batch_size=params.batch_size, sampler=mnist05_train_sampler)\n",
        "mnist05_validation_loader = DataLoader(mnist05_train_set, batch_size=params.batch_size, sampler=mnist05_validation_sampler)\n",
        "mnist05_test_loader = DataLoader(mnist05_test_set, batch_size=params.batch_size, shuffle=False)\n",
        "\n",
        "mnist06_train_loader = DataLoader(mnist06_train_set, batch_size=params.batch_size, sampler=mnist06_train_sampler)\n",
        "mnist06_validation_loader = DataLoader(mnist06_train_set, batch_size=params.batch_size, sampler=mnist06_validation_sampler)\n",
        "mnist06_test_loader = DataLoader(mnist06_test_set, batch_size=params.batch_size, shuffle=False)\n",
        "\n",
        "cifar_train_loader = DataLoader(cifar_train_set, batch_size=params.batch_size, sampler=cifar_train_sampler)\n",
        "cifar_validation_loader = DataLoader(cifar_train_set, batch_size=params.batch_size, sampler=cifar_validation_sampler)\n",
        "cifar_test_loader = DataLoader(cifar_test_set, batch_size=params.batch_size, shuffle=False)\n",
        "\n",
        "\n",
        "# ====================================\n",
        "# Choose dataset and Transition Matrix\n",
        "datasets_dict = {\n",
        "    \"mnist05\": {\n",
        "        \"loaders\": (mnist05_train_loader, mnist05_validation_loader, mnist05_test_loader),\n",
        "        \"dataset\": mnist05_train_set,\n",
        "        \"testset\": mnist05_test_set,\n",
        "        \"transition_matrix\": torch.from_numpy(mnist05_transitions.T).to(device) # Transpose because defined differently than in lectures\n",
        "        },\n",
        "    \"mnist06\": {\n",
        "        \"loaders\": (mnist06_train_loader, mnist06_validation_loader, mnist06_test_loader),\n",
        "        \"dataset\": mnist06_train_set,\n",
        "        \"testset\": mnist06_test_set,\n",
        "        \"transition_matrix\": torch.from_numpy(mnist06_transitions.T).to(device) # Transpose because defined differently than in lectures\n",
        "        },\n",
        "    \"cifar\": {\n",
        "        \"loaders\": (cifar_train_loader, cifar_validation_loader, cifar_test_loader),\n",
        "        \"dataset\": cifar_train_set,\n",
        "        \"testset\": cifar_test_set,\n",
        "        \"transition_matrix\": torch.from_numpy(np.array(\n",
        "            [[0.2796548,  0.37073188, 0.33353805],\n",
        "            [0.37033914, 0.35247205, 0.28679701],\n",
        "            [0.35000606, 0.27679607, 0.37966494]]\n",
        "            ).T).to(device)\n",
        "        },\n",
        "}\n",
        "# ==============\n",
        "# Change dataset here\n",
        "data_name = 'cifar'\n",
        "# Change whether to train the network for transition matrix estimation\n",
        "ESTIMATION = True\n",
        "# ==============\n",
        "\n",
        "\n",
        "\n",
        "\n",
        "\n",
        "if not ESTIMATION:\n",
        "    transition_matrix = datasets_dict[DATASET]['transition_matrix']\n",
        "else:\n",
        "    transition_matrix = None\n",
        "\n",
        "train_loader, validation_loader, test_loader = datasets_dict[data_name]['loaders']\n",
        "dataset = datasets_dict[data_name]['dataset']\n",
        "testset = datasets_dict[data_name]['testset']\n",
        "\n",
        "# Note that the transition matrix estimated is actually the transpose of the transition matrix defined in report.\n",
        "def estimate_transition_matrix(trained_model, train_set, test_set, device):\n",
        "    \n",
        "    # First, find the anchor point xi\n",
        "    nbr_classes = len(set(train_set.tensors[1].numpy()))\n",
        "    nbr_train_samples = len((train_set.tensors[1].numpy()))\n",
        "\n",
        "    x_i = []\n",
        "    softmax = nn.Softmax(dim=1) # Softmax needed as it is not included in the architecture\n",
        "    with torch.no_grad():\n",
        "        trained_model.eval()\n",
        "        all_outputs_train = trained_model(train_set.tensors[0].float().to(device)).cpu().numpy()\n",
        "        all_outputs_test = trained_model(test_set.tensors[0].float().to(device)).cpu().numpy()\n",
        "\n",
        "    # Merge train set and test set to get a bigger set to draw our samples from\n",
        "    all_outputs = np.concatenate((all_outputs_train, all_outputs_test))\n",
        "    x_i_indices = np.argmax(all_outputs, axis=0)\n",
        "\n",
        "    estimated_transition_matrix = np.zeros((nbr_classes,nbr_classes))\n",
        "    with torch.no_grad():\n",
        "        trained_model.eval()\n",
        "        for i, index in enumerate(x_i_indices):\n",
        "            if index < nbr_train_samples:\n",
        "                p_i = softmax(trained_model(train_set.tensors[0][index].float().to(device).view(1, 3, 32, 32)))\n",
        "            else:\n",
        "                test_index = index - nbr_train_samples\n",
        "                p_i = softmax(trained_model(train_set.tensors[0][test_index].float().to(device).view(1, 3, 32, 32)))\n",
        "            estimated_transition_matrix[i,:] = p_i.cpu().numpy()[0]\n",
        "\n",
        "    return estimated_transition_matrix\n",
        "\n",
        "# Generalization for estimation of the transtion matrix\n",
        "\n",
        "N = 5\n",
        "ESTIMATION = True\n",
        "params.epochs = 7\n",
        "\n",
        "nbr_classes = len(set(dataset.tensors[1].numpy()))\n",
        "estimates = np.zeros((N, nbr_classes, nbr_classes))\n",
        "for n in range(N):\n",
        "    model = CNN2(number_classes=nbr_classes).to(device).float()\n",
        "    criterion = nn.CrossEntropyLoss(reduction='none')\n",
        "    optimizer = optim.SGD(model.parameters(), lr=params.learning_rate, momentum=params.momentum, weight_decay=params.weight_decay)\n",
        "    trained_model, _ = train(model, optimizer, criterion, dataset, device, params, test_loader, transition_matrix=transition_matrix, verbose=False)\n",
        "    estimates[n,:,:] = estimate_transition_matrix(trained_model, dataset, testset, device)\n",
        "\n",
        "print('========\\nEstimated Transition Matrix:\\n{}\\n--------\\nStandard Deviation:\\n{}\\n========'.format(\n",
        "    np.mean(estimates, axis=0), np.std(estimates, axis=0)\n",
        "    )\n",
        ")"
      ],
      "execution_count": 42,
      "outputs": [
        {
          "output_type": "stream",
          "text": [
            "Training by 10-fold and repeat with 10 epoches.....\n",
            "Training by 10-fold and repeat with 10 epoches.....\n",
            "Training by 10-fold and repeat with 10 epoches.....\n",
            "Training by 10-fold and repeat with 10 epoches.....\n",
            "Training by 10-fold and repeat with 10 epoches.....\n",
            "========\n",
            "Estimated Transition Matrix:\n",
            "[[0.53298898 0.22391123 0.2430998 ]\n",
            " [0.21295191 0.52961957 0.25742853]\n",
            " [0.21647773 0.2937075  0.48981476]]\n",
            "--------\n",
            "Standard Deviation:\n",
            "[[0.01825957 0.0566187  0.04672159]\n",
            " [0.04875406 0.03460215 0.01784053]\n",
            " [0.06048594 0.06490083 0.10339179]]\n",
            "========\n"
          ],
          "name": "stdout"
        }
      ]
    }
  ]
}